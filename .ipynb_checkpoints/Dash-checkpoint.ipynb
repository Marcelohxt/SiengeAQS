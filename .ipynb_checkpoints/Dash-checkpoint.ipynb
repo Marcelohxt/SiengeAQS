{
 "cells": [
  {
   "cell_type": "markdown",
   "id": "ee63181a-07c5-40ab-9a26-873b778cd49f",
   "metadata": {},
   "source": [
    "# <font color='blue'>Data Science</font>\n",
    "# <font color='blue'>Análise de Dados com Linguagem Python</font>\n",
    "\n",
    "## <font color='blue'>Suprimentos</font>\n",
    "## <font color='blue'>Análise de Dados Para Traçar Estratégias Com base em ERP Sienge</font>"
   ]
  },
  {
   "cell_type": "code",
   "execution_count": 3,
   "id": "dab6c305-b85e-4e4b-9564-141b30bbfe50",
   "metadata": {},
   "outputs": [],
   "source": [
    "# Imports\n",
    "import math\n",
    "import sys, os\n",
    "import numpy as np\n",
    "import pandas as pd\n",
    "import watermark \n",
    "import pandas as pd\n",
    "import numpy as np\n",
    "from sklearn import linear_model\n",
    "import warnings\n",
    "warnings.filterwarnings(\"ignore\")"
   ]
  },
  {
   "cell_type": "code",
   "execution_count": 98,
   "id": "193ff7dc-d52b-4d86-87fb-60f8f7eccb47",
   "metadata": {},
   "outputs": [],
   "source": [
    "sys.path.append(os.path.abspath(os.path.join('modulos')))\n",
    "from estrategia1 import *\n",
    "from estrategia2 import *\n",
    "from estrategia3 import *"
   ]
  },
  {
   "cell_type": "markdown",
   "id": "da4b6ee0-055e-4d2c-b742-a6ba5e9acb40",
   "metadata": {},
   "source": [
    "## Carregando os Dados\n",
    "\n",
    "https://pandas.pydata.org/docs/reference/api/pandas.read_csv.html"
   ]
  },
  {
   "cell_type": "code",
   "execution_count": 6,
   "id": "99649d50-8267-46c8-a4d6-94986f2b139a",
   "metadata": {},
   "outputs": [],
   "source": [
    "# Carrega o dataset\n",
    "df = pd.read_csv(\"dados/siengeRelatorio.csv\", sep=\";\")\n"
   ]
  },
  {
   "cell_type": "code",
   "execution_count": 7,
   "id": "2066664e-a76a-450b-8e12-26e274a8759d",
   "metadata": {},
   "outputs": [
    {
     "data": {
      "text/plain": [
       "(509, 42)"
      ]
     },
     "execution_count": 7,
     "metadata": {},
     "output_type": "execute_result"
    }
   ],
   "source": [
    "df.shape"
   ]
  },
  {
   "cell_type": "code",
   "execution_count": 8,
   "id": "cd2e1eb3-66ea-49a8-8c3d-98e4014c992f",
   "metadata": {},
   "outputs": [
    {
     "data": {
      "text/html": [
       "<div>\n",
       "<style scoped>\n",
       "    .dataframe tbody tr th:only-of-type {\n",
       "        vertical-align: middle;\n",
       "    }\n",
       "\n",
       "    .dataframe tbody tr th {\n",
       "        vertical-align: top;\n",
       "    }\n",
       "\n",
       "    .dataframe thead th {\n",
       "        text-align: right;\n",
       "    }\n",
       "</style>\n",
       "<table border=\"1\" class=\"dataframe\">\n",
       "  <thead>\n",
       "    <tr style=\"text-align: right;\">\n",
       "      <th></th>\n",
       "      <th>Contrato</th>\n",
       "      <th>Empresa</th>\n",
       "      <th>Cód. Obra</th>\n",
       "      <th>Obra</th>\n",
       "      <th>Cód. Fornecedor</th>\n",
       "      <th>Fornecedor*</th>\n",
       "      <th>CPF/CNPJ Fornecedor</th>\n",
       "      <th>Objeto do Contrato</th>\n",
       "      <th>Data do Contrato</th>\n",
       "      <th>Data de Término</th>\n",
       "      <th>...</th>\n",
       "      <th>Cód. Departamento sinal</th>\n",
       "      <th>Departamento sinal</th>\n",
       "      <th>Vencimento do sinal</th>\n",
       "      <th>Observação do sinal</th>\n",
       "      <th>Retém impostos no sinal</th>\n",
       "      <th>Total Fat. Direto</th>\n",
       "      <th>Total Fat. Direto Vinculado</th>\n",
       "      <th>Fat. direto outro(s) contrato(s)</th>\n",
       "      <th>Fat. direto considera indice</th>\n",
       "      <th>Fat. direto por desconto</th>\n",
       "    </tr>\n",
       "  </thead>\n",
       "  <tbody>\n",
       "    <tr>\n",
       "      <th>0</th>\n",
       "      <td>CTF/7400121</td>\n",
       "      <td>740 - BLVD ALTI EMPREENDIMENTO IMOBILIÁRIO LTDA</td>\n",
       "      <td>74000.0</td>\n",
       "      <td>PROJETO BLVD ALTI</td>\n",
       "      <td>4130.0</td>\n",
       "      <td>GCS PROMOCAO E PUBLICIDADE LTDA</td>\n",
       "      <td>28.660.162/0001-75</td>\n",
       "      <td>PONTOS DE CAPTAÇÃO - GCS PROMOÇÕES</td>\n",
       "      <td>21/11/2024</td>\n",
       "      <td>01/06/2025</td>\n",
       "      <td>...</td>\n",
       "      <td>NaN</td>\n",
       "      <td>NaN</td>\n",
       "      <td>NaN</td>\n",
       "      <td>NaN</td>\n",
       "      <td>não</td>\n",
       "      <td>NaN</td>\n",
       "      <td>NaN</td>\n",
       "      <td>não</td>\n",
       "      <td>não</td>\n",
       "      <td>não</td>\n",
       "    </tr>\n",
       "    <tr>\n",
       "      <th>1</th>\n",
       "      <td>CTF/7400120</td>\n",
       "      <td>740 - BLVD ALTI EMPREENDIMENTO IMOBILIÁRIO LTDA</td>\n",
       "      <td>74000.0</td>\n",
       "      <td>PROJETO BLVD ALTI</td>\n",
       "      <td>2841.0</td>\n",
       "      <td>MAXIMA MARKETING PROMOCIONAL LTDA</td>\n",
       "      <td>18.666.314/0001-93</td>\n",
       "      <td>LOCAÇÃO DE BISTROS - MAXIMA</td>\n",
       "      <td>04/11/2024</td>\n",
       "      <td>04/02/2025</td>\n",
       "      <td>...</td>\n",
       "      <td>NaN</td>\n",
       "      <td>NaN</td>\n",
       "      <td>NaN</td>\n",
       "      <td>NaN</td>\n",
       "      <td>não</td>\n",
       "      <td>NaN</td>\n",
       "      <td>NaN</td>\n",
       "      <td>não</td>\n",
       "      <td>não</td>\n",
       "      <td>não</td>\n",
       "    </tr>\n",
       "    <tr>\n",
       "      <th>2</th>\n",
       "      <td>CTF/7400119</td>\n",
       "      <td>740 - BLVD ALTI EMPREENDIMENTO IMOBILIÁRIO LTDA</td>\n",
       "      <td>74000.0</td>\n",
       "      <td>PROJETO BLVD ALTI</td>\n",
       "      <td>2709.0</td>\n",
       "      <td>ALL COPIAS</td>\n",
       "      <td>56.927.924/0001-92</td>\n",
       "      <td>MATERIAIS GRAFICOS - ALL CÓPIAS</td>\n",
       "      <td>26/11/2024</td>\n",
       "      <td>26/04/2025</td>\n",
       "      <td>...</td>\n",
       "      <td>NaN</td>\n",
       "      <td>NaN</td>\n",
       "      <td>NaN</td>\n",
       "      <td>NaN</td>\n",
       "      <td>não</td>\n",
       "      <td>NaN</td>\n",
       "      <td>NaN</td>\n",
       "      <td>não</td>\n",
       "      <td>não</td>\n",
       "      <td>não</td>\n",
       "    </tr>\n",
       "    <tr>\n",
       "      <th>3</th>\n",
       "      <td>CTF/7400118</td>\n",
       "      <td>740 - BLVD ALTI EMPREENDIMENTO IMOBILIÁRIO LTDA</td>\n",
       "      <td>74000.0</td>\n",
       "      <td>PROJETO BLVD ALTI</td>\n",
       "      <td>4136.0</td>\n",
       "      <td>PUBLICKER SERVICOS E COMERCIO LTDA</td>\n",
       "      <td>15.479.964/0001-31</td>\n",
       "      <td>MIDIA - PUBLICKER</td>\n",
       "      <td>26/11/2024</td>\n",
       "      <td>26/02/2025</td>\n",
       "      <td>...</td>\n",
       "      <td>NaN</td>\n",
       "      <td>NaN</td>\n",
       "      <td>NaN</td>\n",
       "      <td>NaN</td>\n",
       "      <td>não</td>\n",
       "      <td>NaN</td>\n",
       "      <td>NaN</td>\n",
       "      <td>não</td>\n",
       "      <td>não</td>\n",
       "      <td>não</td>\n",
       "    </tr>\n",
       "    <tr>\n",
       "      <th>4</th>\n",
       "      <td>CTF/7400117</td>\n",
       "      <td>740 - BLVD ALTI EMPREENDIMENTO IMOBILIÁRIO LTDA</td>\n",
       "      <td>74000.0</td>\n",
       "      <td>PROJETO BLVD ALTI</td>\n",
       "      <td>4135.0</td>\n",
       "      <td>DUVALE PUBLICIDADE LTDA</td>\n",
       "      <td>56.869.092/0001-03</td>\n",
       "      <td>PUBLICAÇÃO DE ANUNCIO - DUVALE</td>\n",
       "      <td>26/11/2024</td>\n",
       "      <td>26/01/2025</td>\n",
       "      <td>...</td>\n",
       "      <td>NaN</td>\n",
       "      <td>NaN</td>\n",
       "      <td>NaN</td>\n",
       "      <td>NaN</td>\n",
       "      <td>não</td>\n",
       "      <td>NaN</td>\n",
       "      <td>NaN</td>\n",
       "      <td>não</td>\n",
       "      <td>não</td>\n",
       "      <td>não</td>\n",
       "    </tr>\n",
       "  </tbody>\n",
       "</table>\n",
       "<p>5 rows × 42 columns</p>\n",
       "</div>"
      ],
      "text/plain": [
       "      Contrato                                          Empresa  Cód. Obra  \\\n",
       "0  CTF/7400121  740 - BLVD ALTI EMPREENDIMENTO IMOBILIÁRIO LTDA    74000.0   \n",
       "1  CTF/7400120  740 - BLVD ALTI EMPREENDIMENTO IMOBILIÁRIO LTDA    74000.0   \n",
       "2  CTF/7400119  740 - BLVD ALTI EMPREENDIMENTO IMOBILIÁRIO LTDA    74000.0   \n",
       "3  CTF/7400118  740 - BLVD ALTI EMPREENDIMENTO IMOBILIÁRIO LTDA    74000.0   \n",
       "4  CTF/7400117  740 - BLVD ALTI EMPREENDIMENTO IMOBILIÁRIO LTDA    74000.0   \n",
       "\n",
       "                Obra  Cód. Fornecedor                         Fornecedor*  \\\n",
       "0  PROJETO BLVD ALTI           4130.0     GCS PROMOCAO E PUBLICIDADE LTDA   \n",
       "1  PROJETO BLVD ALTI           2841.0   MAXIMA MARKETING PROMOCIONAL LTDA   \n",
       "2  PROJETO BLVD ALTI           2709.0                          ALL COPIAS   \n",
       "3  PROJETO BLVD ALTI           4136.0  PUBLICKER SERVICOS E COMERCIO LTDA   \n",
       "4  PROJETO BLVD ALTI           4135.0             DUVALE PUBLICIDADE LTDA   \n",
       "\n",
       "  CPF/CNPJ Fornecedor                  Objeto do Contrato Data do Contrato  \\\n",
       "0  28.660.162/0001-75  PONTOS DE CAPTAÇÃO - GCS PROMOÇÕES       21/11/2024   \n",
       "1  18.666.314/0001-93         LOCAÇÃO DE BISTROS - MAXIMA       04/11/2024   \n",
       "2  56.927.924/0001-92     MATERIAIS GRAFICOS - ALL CÓPIAS       26/11/2024   \n",
       "3  15.479.964/0001-31                   MIDIA - PUBLICKER       26/11/2024   \n",
       "4  56.869.092/0001-03      PUBLICAÇÃO DE ANUNCIO - DUVALE       26/11/2024   \n",
       "\n",
       "  Data de Término  ... Cód. Departamento sinal Departamento sinal  \\\n",
       "0      01/06/2025  ...                     NaN                NaN   \n",
       "1      04/02/2025  ...                     NaN                NaN   \n",
       "2      26/04/2025  ...                     NaN                NaN   \n",
       "3      26/02/2025  ...                     NaN                NaN   \n",
       "4      26/01/2025  ...                     NaN                NaN   \n",
       "\n",
       "  Vencimento do sinal Observação do sinal Retém impostos no sinal  \\\n",
       "0                 NaN                 NaN                     não   \n",
       "1                 NaN                 NaN                     não   \n",
       "2                 NaN                 NaN                     não   \n",
       "3                 NaN                 NaN                     não   \n",
       "4                 NaN                 NaN                     não   \n",
       "\n",
       "  Total Fat. Direto  Total Fat. Direto Vinculado  \\\n",
       "0               NaN                          NaN   \n",
       "1               NaN                          NaN   \n",
       "2               NaN                          NaN   \n",
       "3               NaN                          NaN   \n",
       "4               NaN                          NaN   \n",
       "\n",
       "  Fat. direto outro(s) contrato(s) Fat. direto considera indice  \\\n",
       "0                              não                          não   \n",
       "1                              não                          não   \n",
       "2                              não                          não   \n",
       "3                              não                          não   \n",
       "4                              não                          não   \n",
       "\n",
       "  Fat. direto por desconto  \n",
       "0                      não  \n",
       "1                      não  \n",
       "2                      não  \n",
       "3                      não  \n",
       "4                      não  \n",
       "\n",
       "[5 rows x 42 columns]"
      ]
     },
     "execution_count": 8,
     "metadata": {},
     "output_type": "execute_result"
    }
   ],
   "source": [
    "df.head(5)"
   ]
  },
  {
   "cell_type": "code",
   "execution_count": 9,
   "id": "8733ee8d-2207-4cca-8c35-e48b0121b59e",
   "metadata": {},
   "outputs": [
    {
     "data": {
      "text/plain": [
       "Contrato                                1\n",
       "Empresa                                 1\n",
       "Cód. Obra                               1\n",
       "Obra                                    1\n",
       "Cód. Fornecedor                         1\n",
       "Fornecedor*                             1\n",
       "CPF/CNPJ Fornecedor                     1\n",
       " Objeto do Contrato                     1\n",
       "Data do Contrato                        1\n",
       "Data de Término                         1\n",
       "Situação do Contrato                    1\n",
       "Data da alteração de situação         215\n",
       "Descrição da alteração de situação    215\n",
       "Responsável                             1\n",
       "Situação de Autorização                 1\n",
       "Autorizado por                          1\n",
       "Cód. Tipo do Contrato                   1\n",
       "Tipo do Contrato                        1\n",
       "Total Mão de Obra                     118\n",
       "Total Material                        343\n",
       "Total                                   6\n",
       "Total Medido                           35\n",
       "Saldo                                 289\n",
       "Cód. Centro custo previsão              9\n",
       "Centro custo previsão                   9\n",
       "Cód. departamento previsão              9\n",
       "Departamento previsão                   9\n",
       "Observação da previsão                465\n",
       "Total em Aberto                       289\n",
       "Total Sinal                           509\n",
       "Cód. Centro custo sinal               509\n",
       "Centro custo sinal                    509\n",
       "Cód. Departamento sinal               509\n",
       "Departamento sinal                    509\n",
       "Vencimento do sinal                   509\n",
       "Observação do sinal                   509\n",
       "Retém impostos no sinal                 0\n",
       "Total Fat. Direto                     501\n",
       "Total Fat. Direto Vinculado           502\n",
       "Fat. direto outro(s) contrato(s)        0\n",
       "Fat. direto considera indice            0\n",
       "Fat. direto por desconto                0\n",
       "dtype: int64"
      ]
     },
     "execution_count": 9,
     "metadata": {},
     "output_type": "execute_result"
    }
   ],
   "source": [
    "df.isna().sum()"
   ]
  },
  {
   "cell_type": "code",
   "execution_count": 10,
   "id": "27130dcd-2d77-42a9-b8f2-3a598145c6ba",
   "metadata": {},
   "outputs": [
    {
     "name": "stdout",
     "output_type": "stream",
     "text": [
      "<class 'pandas.core.frame.DataFrame'>\n",
      "RangeIndex: 509 entries, 0 to 508\n",
      "Data columns (total 42 columns):\n",
      " #   Column                              Non-Null Count  Dtype  \n",
      "---  ------                              --------------  -----  \n",
      " 0   Contrato                            508 non-null    object \n",
      " 1   Empresa                             508 non-null    object \n",
      " 2   Cód. Obra                           508 non-null    float64\n",
      " 3   Obra                                508 non-null    object \n",
      " 4   Cód. Fornecedor                     508 non-null    float64\n",
      " 5   Fornecedor*                         508 non-null    object \n",
      " 6   CPF/CNPJ Fornecedor                 508 non-null    object \n",
      " 7    Objeto do Contrato                 508 non-null    object \n",
      " 8   Data do Contrato                    508 non-null    object \n",
      " 9   Data de Término                     508 non-null    object \n",
      " 10  Situação do Contrato                508 non-null    object \n",
      " 11  Data da alteração de situação       294 non-null    object \n",
      " 12  Descrição da alteração de situação  294 non-null    object \n",
      " 13  Responsável                         508 non-null    object \n",
      " 14  Situação de Autorização             508 non-null    object \n",
      " 15  Autorizado por                      508 non-null    object \n",
      " 16  Cód. Tipo do Contrato               508 non-null    float64\n",
      " 17  Tipo do Contrato                    508 non-null    object \n",
      " 18  Total Mão de Obra                   391 non-null    object \n",
      " 19  Total Material                      166 non-null    object \n",
      " 20  Total                               503 non-null    object \n",
      " 21  Total Medido                        474 non-null    object \n",
      " 22  Saldo                               220 non-null    object \n",
      " 23  Cód. Centro custo previsão          500 non-null    float64\n",
      " 24  Centro custo previsão               500 non-null    object \n",
      " 25  Cód. departamento previsão          500 non-null    float64\n",
      " 26  Departamento previsão               500 non-null    object \n",
      " 27  Observação da previsão              44 non-null     object \n",
      " 28  Total em Aberto                     220 non-null    object \n",
      " 29  Total Sinal                         0 non-null      float64\n",
      " 30  Cód. Centro custo sinal             0 non-null      float64\n",
      " 31  Centro custo sinal                  0 non-null      float64\n",
      " 32  Cód. Departamento sinal             0 non-null      float64\n",
      " 33  Departamento sinal                  0 non-null      float64\n",
      " 34  Vencimento do sinal                 0 non-null      float64\n",
      " 35  Observação do sinal                 0 non-null      float64\n",
      " 36  Retém impostos no sinal             509 non-null    object \n",
      " 37  Total Fat. Direto                   8 non-null      object \n",
      " 38  Total Fat. Direto Vinculado         7 non-null      object \n",
      " 39  Fat. direto outro(s) contrato(s)    509 non-null    object \n",
      " 40  Fat. direto considera indice        509 non-null    object \n",
      " 41  Fat. direto por desconto            509 non-null    object \n",
      "dtypes: float64(12), object(30)\n",
      "memory usage: 167.1+ KB\n"
     ]
    }
   ],
   "source": [
    "df.info()"
   ]
  },
  {
   "cell_type": "code",
   "execution_count": 11,
   "id": "661c3ae0-26e2-4f39-b1f5-10f3df13dec1",
   "metadata": {},
   "outputs": [
    {
     "data": {
      "text/plain": [
       "Index(['Contrato', 'Empresa', 'Cód. Obra', 'Obra', 'Cód. Fornecedor',\n",
       "       'Fornecedor*', 'CPF/CNPJ Fornecedor', ' Objeto do Contrato',\n",
       "       'Data do Contrato', 'Data de Término', 'Situação do Contrato',\n",
       "       'Data da alteração de situação', 'Descrição da alteração de situação',\n",
       "       'Responsável', 'Situação de Autorização', 'Autorizado por',\n",
       "       'Cód. Tipo do Contrato', 'Tipo do Contrato', 'Total Mão de Obra',\n",
       "       'Total Material', 'Total', 'Total Medido', 'Saldo',\n",
       "       'Cód. Centro custo previsão', 'Centro custo previsão',\n",
       "       'Cód. departamento previsão', 'Departamento previsão',\n",
       "       'Observação da previsão', 'Total em Aberto', 'Total Sinal',\n",
       "       'Cód. Centro custo sinal', 'Centro custo sinal',\n",
       "       'Cód. Departamento sinal', 'Departamento sinal', 'Vencimento do sinal',\n",
       "       'Observação do sinal', 'Retém impostos no sinal', 'Total Fat. Direto',\n",
       "       'Total Fat. Direto Vinculado', 'Fat. direto outro(s) contrato(s)',\n",
       "       'Fat. direto considera indice', 'Fat. direto por desconto'],\n",
       "      dtype='object')"
      ]
     },
     "execution_count": 11,
     "metadata": {},
     "output_type": "execute_result"
    }
   ],
   "source": [
    "df.columns # See the list of columns after deletion!  "
   ]
  },
  {
   "cell_type": "code",
   "execution_count": 12,
   "id": "4bb38814-dfdd-4acb-adff-687bb6c9d0fb",
   "metadata": {},
   "outputs": [],
   "source": [
    "colunas_para_remover = [\n",
    "    \"Cód. Departamento sinal\", \"Departamento sinal\", \"Vencimento do sinal\",\n",
    "    \"Observação do sinal\", \"Retém impostos no sinal\", \"Total Fat. Direto\",\n",
    "    \"Total Fat. Direto Vinculado\", \"Fat. direto outro(s) contrato(s)\",\n",
    "    \"Fat. direto considera indice\", \"Fat. direto por desconto\"\n",
    "]\n",
    "\n",
    "df = df.drop(columns=colunas_para_remover)\n"
   ]
  },
  {
   "cell_type": "code",
   "execution_count": 13,
   "id": "6a7e27b4-be9a-4049-9fc8-fb53595b7629",
   "metadata": {},
   "outputs": [
    {
     "data": {
      "text/html": [
       "<div>\n",
       "<style scoped>\n",
       "    .dataframe tbody tr th:only-of-type {\n",
       "        vertical-align: middle;\n",
       "    }\n",
       "\n",
       "    .dataframe tbody tr th {\n",
       "        vertical-align: top;\n",
       "    }\n",
       "\n",
       "    .dataframe thead th {\n",
       "        text-align: right;\n",
       "    }\n",
       "</style>\n",
       "<table border=\"1\" class=\"dataframe\">\n",
       "  <thead>\n",
       "    <tr style=\"text-align: right;\">\n",
       "      <th></th>\n",
       "      <th>Contrato</th>\n",
       "      <th>Empresa</th>\n",
       "      <th>Cód. Obra</th>\n",
       "      <th>Obra</th>\n",
       "      <th>Cód. Fornecedor</th>\n",
       "      <th>Fornecedor*</th>\n",
       "      <th>CPF/CNPJ Fornecedor</th>\n",
       "      <th>Objeto do Contrato</th>\n",
       "      <th>Data do Contrato</th>\n",
       "      <th>Data de Término</th>\n",
       "      <th>...</th>\n",
       "      <th>Saldo</th>\n",
       "      <th>Cód. Centro custo previsão</th>\n",
       "      <th>Centro custo previsão</th>\n",
       "      <th>Cód. departamento previsão</th>\n",
       "      <th>Departamento previsão</th>\n",
       "      <th>Observação da previsão</th>\n",
       "      <th>Total em Aberto</th>\n",
       "      <th>Total Sinal</th>\n",
       "      <th>Cód. Centro custo sinal</th>\n",
       "      <th>Centro custo sinal</th>\n",
       "    </tr>\n",
       "  </thead>\n",
       "  <tbody>\n",
       "    <tr>\n",
       "      <th>0</th>\n",
       "      <td>CTF/7400121</td>\n",
       "      <td>740 - BLVD ALTI EMPREENDIMENTO IMOBILIÁRIO LTDA</td>\n",
       "      <td>74000.0</td>\n",
       "      <td>PROJETO BLVD ALTI</td>\n",
       "      <td>4130.0</td>\n",
       "      <td>GCS PROMOCAO E PUBLICIDADE LTDA</td>\n",
       "      <td>28.660.162/0001-75</td>\n",
       "      <td>PONTOS DE CAPTAÇÃO - GCS PROMOÇÕES</td>\n",
       "      <td>21/11/2024</td>\n",
       "      <td>01/06/2025</td>\n",
       "      <td>...</td>\n",
       "      <td>NaN</td>\n",
       "      <td>74020.0</td>\n",
       "      <td>INCORPORAÇÃO - BLVD ALTI</td>\n",
       "      <td>6.0</td>\n",
       "      <td>MARKETING</td>\n",
       "      <td>NaN</td>\n",
       "      <td>NaN</td>\n",
       "      <td>NaN</td>\n",
       "      <td>NaN</td>\n",
       "      <td>NaN</td>\n",
       "    </tr>\n",
       "    <tr>\n",
       "      <th>1</th>\n",
       "      <td>CTF/7400120</td>\n",
       "      <td>740 - BLVD ALTI EMPREENDIMENTO IMOBILIÁRIO LTDA</td>\n",
       "      <td>74000.0</td>\n",
       "      <td>PROJETO BLVD ALTI</td>\n",
       "      <td>2841.0</td>\n",
       "      <td>MAXIMA MARKETING PROMOCIONAL LTDA</td>\n",
       "      <td>18.666.314/0001-93</td>\n",
       "      <td>LOCAÇÃO DE BISTROS - MAXIMA</td>\n",
       "      <td>04/11/2024</td>\n",
       "      <td>04/02/2025</td>\n",
       "      <td>...</td>\n",
       "      <td>NaN</td>\n",
       "      <td>74020.0</td>\n",
       "      <td>INCORPORAÇÃO - BLVD ALTI</td>\n",
       "      <td>6.0</td>\n",
       "      <td>MARKETING</td>\n",
       "      <td>NaN</td>\n",
       "      <td>NaN</td>\n",
       "      <td>NaN</td>\n",
       "      <td>NaN</td>\n",
       "      <td>NaN</td>\n",
       "    </tr>\n",
       "    <tr>\n",
       "      <th>2</th>\n",
       "      <td>CTF/7400119</td>\n",
       "      <td>740 - BLVD ALTI EMPREENDIMENTO IMOBILIÁRIO LTDA</td>\n",
       "      <td>74000.0</td>\n",
       "      <td>PROJETO BLVD ALTI</td>\n",
       "      <td>2709.0</td>\n",
       "      <td>ALL COPIAS</td>\n",
       "      <td>56.927.924/0001-92</td>\n",
       "      <td>MATERIAIS GRAFICOS - ALL CÓPIAS</td>\n",
       "      <td>26/11/2024</td>\n",
       "      <td>26/04/2025</td>\n",
       "      <td>...</td>\n",
       "      <td>R$ 4.455,00</td>\n",
       "      <td>74020.0</td>\n",
       "      <td>INCORPORAÇÃO - BLVD ALTI</td>\n",
       "      <td>7.0</td>\n",
       "      <td>COMERCIAL</td>\n",
       "      <td>NaN</td>\n",
       "      <td>R$ 4.455,00</td>\n",
       "      <td>NaN</td>\n",
       "      <td>NaN</td>\n",
       "      <td>NaN</td>\n",
       "    </tr>\n",
       "    <tr>\n",
       "      <th>3</th>\n",
       "      <td>CTF/7400118</td>\n",
       "      <td>740 - BLVD ALTI EMPREENDIMENTO IMOBILIÁRIO LTDA</td>\n",
       "      <td>74000.0</td>\n",
       "      <td>PROJETO BLVD ALTI</td>\n",
       "      <td>4136.0</td>\n",
       "      <td>PUBLICKER SERVICOS E COMERCIO LTDA</td>\n",
       "      <td>15.479.964/0001-31</td>\n",
       "      <td>MIDIA - PUBLICKER</td>\n",
       "      <td>26/11/2024</td>\n",
       "      <td>26/02/2025</td>\n",
       "      <td>...</td>\n",
       "      <td>NaN</td>\n",
       "      <td>74020.0</td>\n",
       "      <td>INCORPORAÇÃO - BLVD ALTI</td>\n",
       "      <td>6.0</td>\n",
       "      <td>MARKETING</td>\n",
       "      <td>NaN</td>\n",
       "      <td>NaN</td>\n",
       "      <td>NaN</td>\n",
       "      <td>NaN</td>\n",
       "      <td>NaN</td>\n",
       "    </tr>\n",
       "    <tr>\n",
       "      <th>4</th>\n",
       "      <td>CTF/7400117</td>\n",
       "      <td>740 - BLVD ALTI EMPREENDIMENTO IMOBILIÁRIO LTDA</td>\n",
       "      <td>74000.0</td>\n",
       "      <td>PROJETO BLVD ALTI</td>\n",
       "      <td>4135.0</td>\n",
       "      <td>DUVALE PUBLICIDADE LTDA</td>\n",
       "      <td>56.869.092/0001-03</td>\n",
       "      <td>PUBLICAÇÃO DE ANUNCIO - DUVALE</td>\n",
       "      <td>26/11/2024</td>\n",
       "      <td>26/01/2025</td>\n",
       "      <td>...</td>\n",
       "      <td>NaN</td>\n",
       "      <td>74020.0</td>\n",
       "      <td>INCORPORAÇÃO - BLVD ALTI</td>\n",
       "      <td>6.0</td>\n",
       "      <td>MARKETING</td>\n",
       "      <td>NaN</td>\n",
       "      <td>NaN</td>\n",
       "      <td>NaN</td>\n",
       "      <td>NaN</td>\n",
       "      <td>NaN</td>\n",
       "    </tr>\n",
       "  </tbody>\n",
       "</table>\n",
       "<p>5 rows × 32 columns</p>\n",
       "</div>"
      ],
      "text/plain": [
       "      Contrato                                          Empresa  Cód. Obra  \\\n",
       "0  CTF/7400121  740 - BLVD ALTI EMPREENDIMENTO IMOBILIÁRIO LTDA    74000.0   \n",
       "1  CTF/7400120  740 - BLVD ALTI EMPREENDIMENTO IMOBILIÁRIO LTDA    74000.0   \n",
       "2  CTF/7400119  740 - BLVD ALTI EMPREENDIMENTO IMOBILIÁRIO LTDA    74000.0   \n",
       "3  CTF/7400118  740 - BLVD ALTI EMPREENDIMENTO IMOBILIÁRIO LTDA    74000.0   \n",
       "4  CTF/7400117  740 - BLVD ALTI EMPREENDIMENTO IMOBILIÁRIO LTDA    74000.0   \n",
       "\n",
       "                Obra  Cód. Fornecedor                         Fornecedor*  \\\n",
       "0  PROJETO BLVD ALTI           4130.0     GCS PROMOCAO E PUBLICIDADE LTDA   \n",
       "1  PROJETO BLVD ALTI           2841.0   MAXIMA MARKETING PROMOCIONAL LTDA   \n",
       "2  PROJETO BLVD ALTI           2709.0                          ALL COPIAS   \n",
       "3  PROJETO BLVD ALTI           4136.0  PUBLICKER SERVICOS E COMERCIO LTDA   \n",
       "4  PROJETO BLVD ALTI           4135.0             DUVALE PUBLICIDADE LTDA   \n",
       "\n",
       "  CPF/CNPJ Fornecedor                  Objeto do Contrato Data do Contrato  \\\n",
       "0  28.660.162/0001-75  PONTOS DE CAPTAÇÃO - GCS PROMOÇÕES       21/11/2024   \n",
       "1  18.666.314/0001-93         LOCAÇÃO DE BISTROS - MAXIMA       04/11/2024   \n",
       "2  56.927.924/0001-92     MATERIAIS GRAFICOS - ALL CÓPIAS       26/11/2024   \n",
       "3  15.479.964/0001-31                   MIDIA - PUBLICKER       26/11/2024   \n",
       "4  56.869.092/0001-03      PUBLICAÇÃO DE ANUNCIO - DUVALE       26/11/2024   \n",
       "\n",
       "  Data de Término  ...        Saldo Cód. Centro custo previsão  \\\n",
       "0      01/06/2025  ...          NaN                    74020.0   \n",
       "1      04/02/2025  ...          NaN                    74020.0   \n",
       "2      26/04/2025  ...  R$ 4.455,00                    74020.0   \n",
       "3      26/02/2025  ...          NaN                    74020.0   \n",
       "4      26/01/2025  ...          NaN                    74020.0   \n",
       "\n",
       "      Centro custo previsão Cód. departamento previsão Departamento previsão  \\\n",
       "0  INCORPORAÇÃO - BLVD ALTI                        6.0             MARKETING   \n",
       "1  INCORPORAÇÃO - BLVD ALTI                        6.0             MARKETING   \n",
       "2  INCORPORAÇÃO - BLVD ALTI                        7.0             COMERCIAL   \n",
       "3  INCORPORAÇÃO - BLVD ALTI                        6.0             MARKETING   \n",
       "4  INCORPORAÇÃO - BLVD ALTI                        6.0             MARKETING   \n",
       "\n",
       "  Observação da previsão  Total em Aberto Total Sinal Cód. Centro custo sinal  \\\n",
       "0                    NaN              NaN         NaN                     NaN   \n",
       "1                    NaN              NaN         NaN                     NaN   \n",
       "2                    NaN      R$ 4.455,00         NaN                     NaN   \n",
       "3                    NaN              NaN         NaN                     NaN   \n",
       "4                    NaN              NaN         NaN                     NaN   \n",
       "\n",
       "  Centro custo sinal  \n",
       "0                NaN  \n",
       "1                NaN  \n",
       "2                NaN  \n",
       "3                NaN  \n",
       "4                NaN  \n",
       "\n",
       "[5 rows x 32 columns]"
      ]
     },
     "execution_count": 13,
     "metadata": {},
     "output_type": "execute_result"
    }
   ],
   "source": [
    "df.head()"
   ]
  },
  {
   "cell_type": "code",
   "execution_count": 14,
   "id": "c2f7c9e7-0ff4-413a-b00f-190dbde4c470",
   "metadata": {},
   "outputs": [
    {
     "data": {
      "text/plain": [
       "Contrato                                1\n",
       "Empresa                                 1\n",
       "Cód. Obra                               1\n",
       "Obra                                    1\n",
       "Cód. Fornecedor                         1\n",
       "Fornecedor*                             1\n",
       "CPF/CNPJ Fornecedor                     1\n",
       " Objeto do Contrato                     1\n",
       "Data do Contrato                        1\n",
       "Data de Término                         1\n",
       "Situação do Contrato                    1\n",
       "Data da alteração de situação         215\n",
       "Descrição da alteração de situação    215\n",
       "Responsável                             1\n",
       "Situação de Autorização                 1\n",
       "Autorizado por                          1\n",
       "Cód. Tipo do Contrato                   1\n",
       "Tipo do Contrato                        1\n",
       "Total Mão de Obra                     118\n",
       "Total Material                        343\n",
       "Total                                   6\n",
       "Total Medido                           35\n",
       "Saldo                                 289\n",
       "Cód. Centro custo previsão              9\n",
       "Centro custo previsão                   9\n",
       "Cód. departamento previsão              9\n",
       "Departamento previsão                   9\n",
       "Observação da previsão                465\n",
       "Total em Aberto                       289\n",
       "Total Sinal                           509\n",
       "Cód. Centro custo sinal               509\n",
       "Centro custo sinal                    509\n",
       "dtype: int64"
      ]
     },
     "execution_count": 14,
     "metadata": {},
     "output_type": "execute_result"
    }
   ],
   "source": [
    "df.isna().sum()"
   ]
  },
  {
   "cell_type": "code",
   "execution_count": 15,
   "id": "e5e3a68d-c620-4f75-be42-a7f0100fe237",
   "metadata": {},
   "outputs": [],
   "source": [
    "# As colunas dentro do DF estavam com má formatação em virtude disso adotamos os \"_\" entre os espaçãmentos\n",
    "df.columns = df.columns.str.replace(\" \", \"_\")\n"
   ]
  },
  {
   "cell_type": "code",
   "execution_count": 16,
   "id": "4403100d-a8f6-45b1-819e-7f295c2cce77",
   "metadata": {},
   "outputs": [
    {
     "data": {
      "text/plain": [
       "Index(['Contrato', 'Empresa', 'Cód._Obra', 'Obra', 'Cód._Fornecedor',\n",
       "       'Fornecedor*', 'CPF/CNPJ_Fornecedor', '_Objeto_do_Contrato',\n",
       "       'Data_do_Contrato', 'Data_de_Término', 'Situação_do_Contrato',\n",
       "       'Data_da_alteração_de_situação', 'Descrição_da_alteração_de_situação',\n",
       "       'Responsável', 'Situação_de_Autorização', 'Autorizado_por',\n",
       "       'Cód._Tipo_do_Contrato', 'Tipo_do_Contrato', 'Total_Mão_de_Obra',\n",
       "       'Total_Material', 'Total', 'Total_Medido', 'Saldo',\n",
       "       'Cód._Centro_custo_previsão', 'Centro_custo_previsão',\n",
       "       'Cód._departamento_previsão', 'Departamento_previsão',\n",
       "       'Observação_da_previsão', 'Total_em_Aberto', 'Total_Sinal',\n",
       "       'Cód._Centro_custo_sinal', 'Centro_custo_sinal'],\n",
       "      dtype='object')"
      ]
     },
     "execution_count": 16,
     "metadata": {},
     "output_type": "execute_result"
    }
   ],
   "source": [
    "df.columns"
   ]
  },
  {
   "cell_type": "markdown",
   "id": "7a007bbe-5e77-43ea-8547-f8857f2bb014",
   "metadata": {},
   "source": [
    "#### Como o percentual é maior que 30% poderiamos deletar a coluna porem a mesma pe importante."
   ]
  },
  {
   "cell_type": "markdown",
   "id": "51a81e67-2991-44d4-8c38-d95a29515dcb",
   "metadata": {},
   "source": [
    "## Tratando Coluna \"Centro_custo_sinal\""
   ]
  },
  {
   "cell_type": "code",
   "execution_count": 19,
   "id": "20d5ccfb-ff27-4915-9ab9-02b22f4871ee",
   "metadata": {},
   "outputs": [
    {
     "data": {
      "text/plain": [
       "509"
      ]
     },
     "execution_count": 19,
     "metadata": {},
     "output_type": "execute_result"
    }
   ],
   "source": [
    "df.Centro_custo_sinal.isnull().sum()"
   ]
  },
  {
   "cell_type": "code",
   "execution_count": 20,
   "id": "e02a7751-9660-409c-a445-e22b1fc26284",
   "metadata": {},
   "outputs": [
    {
     "data": {
      "text/plain": [
       "100.0"
      ]
     },
     "execution_count": 20,
     "metadata": {},
     "output_type": "execute_result"
    }
   ],
   "source": [
    "df.Centro_custo_sinal.isnull().mean()*100"
   ]
  },
  {
   "cell_type": "markdown",
   "id": "d2bc2396-e804-49f8-8081-cc44f4afe6f0",
   "metadata": {},
   "source": [
    "#### Encontrado 100% de valor ausente na coluna \"Centro_custo_sinal , _Centro_custo_sinal, Total_Sinal, Observação_da_previsão\" Por isso a mesma sera dropada"
   ]
  },
  {
   "cell_type": "code",
   "execution_count": 56,
   "id": "59b17f69-5a32-43a1-a0d1-314d281090bf",
   "metadata": {},
   "outputs": [
    {
     "name": "stdout",
     "output_type": "stream",
     "text": [
      "O dataset tem 11.71 % de valores ausentes.\n"
     ]
    }
   ],
   "source": [
    "func_calc_percentual_valores_ausentes(df)"
   ]
  },
  {
   "cell_type": "code",
   "execution_count": 164,
   "id": "53507762-cfe7-43a0-91fe-89af56f53b4f",
   "metadata": {},
   "outputs": [
    {
     "name": "stdout",
     "output_type": "stream",
     "text": [
      "O dataset tem 28 colunas.\n",
      "Encontrado: 26 colunas que têm valores ausentes.\n"
     ]
    },
    {
     "data": {
      "text/html": [
       "<div>\n",
       "<style scoped>\n",
       "    .dataframe tbody tr th:only-of-type {\n",
       "        vertical-align: middle;\n",
       "    }\n",
       "\n",
       "    .dataframe tbody tr th {\n",
       "        vertical-align: top;\n",
       "    }\n",
       "\n",
       "    .dataframe thead th {\n",
       "        text-align: right;\n",
       "    }\n",
       "</style>\n",
       "<table border=\"1\" class=\"dataframe\">\n",
       "  <thead>\n",
       "    <tr style=\"text-align: right;\">\n",
       "      <th></th>\n",
       "      <th>Valores Ausentes</th>\n",
       "      <th>% de Valores Ausentes</th>\n",
       "      <th>Dtype</th>\n",
       "    </tr>\n",
       "  </thead>\n",
       "  <tbody>\n",
       "    <tr>\n",
       "      <th>Total_em_Aberto</th>\n",
       "      <td>289</td>\n",
       "      <td>56.78</td>\n",
       "      <td>object</td>\n",
       "    </tr>\n",
       "    <tr>\n",
       "      <th>Data_da_alteração_de_situação</th>\n",
       "      <td>215</td>\n",
       "      <td>42.24</td>\n",
       "      <td>object</td>\n",
       "    </tr>\n",
       "    <tr>\n",
       "      <th>Descrição_da_alteração_de_situação</th>\n",
       "      <td>215</td>\n",
       "      <td>42.24</td>\n",
       "      <td>object</td>\n",
       "    </tr>\n",
       "    <tr>\n",
       "      <th>Total_Mão_de_Obra</th>\n",
       "      <td>118</td>\n",
       "      <td>23.18</td>\n",
       "      <td>object</td>\n",
       "    </tr>\n",
       "    <tr>\n",
       "      <th>Total_Medido</th>\n",
       "      <td>35</td>\n",
       "      <td>6.88</td>\n",
       "      <td>object</td>\n",
       "    </tr>\n",
       "    <tr>\n",
       "      <th>Departamento_previsão</th>\n",
       "      <td>9</td>\n",
       "      <td>1.77</td>\n",
       "      <td>object</td>\n",
       "    </tr>\n",
       "    <tr>\n",
       "      <th>Cód._departamento_previsão</th>\n",
       "      <td>9</td>\n",
       "      <td>1.77</td>\n",
       "      <td>float64</td>\n",
       "    </tr>\n",
       "    <tr>\n",
       "      <th>Centro_custo_previsão</th>\n",
       "      <td>9</td>\n",
       "      <td>1.77</td>\n",
       "      <td>object</td>\n",
       "    </tr>\n",
       "    <tr>\n",
       "      <th>Cód._Centro_custo_previsão</th>\n",
       "      <td>9</td>\n",
       "      <td>1.77</td>\n",
       "      <td>float64</td>\n",
       "    </tr>\n",
       "    <tr>\n",
       "      <th>Total</th>\n",
       "      <td>6</td>\n",
       "      <td>1.18</td>\n",
       "      <td>object</td>\n",
       "    </tr>\n",
       "    <tr>\n",
       "      <th>Situação_de_Autorização</th>\n",
       "      <td>1</td>\n",
       "      <td>0.20</td>\n",
       "      <td>object</td>\n",
       "    </tr>\n",
       "    <tr>\n",
       "      <th>Tipo_do_Contrato</th>\n",
       "      <td>1</td>\n",
       "      <td>0.20</td>\n",
       "      <td>object</td>\n",
       "    </tr>\n",
       "    <tr>\n",
       "      <th>Cód._Tipo_do_Contrato</th>\n",
       "      <td>1</td>\n",
       "      <td>0.20</td>\n",
       "      <td>float64</td>\n",
       "    </tr>\n",
       "    <tr>\n",
       "      <th>Autorizado_por</th>\n",
       "      <td>1</td>\n",
       "      <td>0.20</td>\n",
       "      <td>object</td>\n",
       "    </tr>\n",
       "    <tr>\n",
       "      <th>Contrato</th>\n",
       "      <td>1</td>\n",
       "      <td>0.20</td>\n",
       "      <td>object</td>\n",
       "    </tr>\n",
       "    <tr>\n",
       "      <th>Empresa</th>\n",
       "      <td>1</td>\n",
       "      <td>0.20</td>\n",
       "      <td>object</td>\n",
       "    </tr>\n",
       "    <tr>\n",
       "      <th>Situação_do_Contrato</th>\n",
       "      <td>1</td>\n",
       "      <td>0.20</td>\n",
       "      <td>object</td>\n",
       "    </tr>\n",
       "    <tr>\n",
       "      <th>Data_de_Término</th>\n",
       "      <td>1</td>\n",
       "      <td>0.20</td>\n",
       "      <td>object</td>\n",
       "    </tr>\n",
       "    <tr>\n",
       "      <th>Data_do_Contrato</th>\n",
       "      <td>1</td>\n",
       "      <td>0.20</td>\n",
       "      <td>object</td>\n",
       "    </tr>\n",
       "    <tr>\n",
       "      <th>_Objeto_do_Contrato</th>\n",
       "      <td>1</td>\n",
       "      <td>0.20</td>\n",
       "      <td>object</td>\n",
       "    </tr>\n",
       "    <tr>\n",
       "      <th>CPF/CNPJ_Fornecedor</th>\n",
       "      <td>1</td>\n",
       "      <td>0.20</td>\n",
       "      <td>object</td>\n",
       "    </tr>\n",
       "    <tr>\n",
       "      <th>Fornecedor*</th>\n",
       "      <td>1</td>\n",
       "      <td>0.20</td>\n",
       "      <td>object</td>\n",
       "    </tr>\n",
       "    <tr>\n",
       "      <th>Cód._Fornecedor</th>\n",
       "      <td>1</td>\n",
       "      <td>0.20</td>\n",
       "      <td>float64</td>\n",
       "    </tr>\n",
       "    <tr>\n",
       "      <th>Obra</th>\n",
       "      <td>1</td>\n",
       "      <td>0.20</td>\n",
       "      <td>object</td>\n",
       "    </tr>\n",
       "    <tr>\n",
       "      <th>Cód._Obra</th>\n",
       "      <td>1</td>\n",
       "      <td>0.20</td>\n",
       "      <td>float64</td>\n",
       "    </tr>\n",
       "    <tr>\n",
       "      <th>Responsável</th>\n",
       "      <td>1</td>\n",
       "      <td>0.20</td>\n",
       "      <td>object</td>\n",
       "    </tr>\n",
       "  </tbody>\n",
       "</table>\n",
       "</div>"
      ],
      "text/plain": [
       "                                    Valores Ausentes  % de Valores Ausentes  \\\n",
       "Total_em_Aberto                                  289                  56.78   \n",
       "Data_da_alteração_de_situação                    215                  42.24   \n",
       "Descrição_da_alteração_de_situação               215                  42.24   \n",
       "Total_Mão_de_Obra                                118                  23.18   \n",
       "Total_Medido                                      35                   6.88   \n",
       "Departamento_previsão                              9                   1.77   \n",
       "Cód._departamento_previsão                         9                   1.77   \n",
       "Centro_custo_previsão                              9                   1.77   \n",
       "Cód._Centro_custo_previsão                         9                   1.77   \n",
       "Total                                              6                   1.18   \n",
       "Situação_de_Autorização                            1                   0.20   \n",
       "Tipo_do_Contrato                                   1                   0.20   \n",
       "Cód._Tipo_do_Contrato                              1                   0.20   \n",
       "Autorizado_por                                     1                   0.20   \n",
       "Contrato                                           1                   0.20   \n",
       "Empresa                                            1                   0.20   \n",
       "Situação_do_Contrato                               1                   0.20   \n",
       "Data_de_Término                                    1                   0.20   \n",
       "Data_do_Contrato                                   1                   0.20   \n",
       "_Objeto_do_Contrato                                1                   0.20   \n",
       "CPF/CNPJ_Fornecedor                                1                   0.20   \n",
       "Fornecedor*                                        1                   0.20   \n",
       "Cód._Fornecedor                                    1                   0.20   \n",
       "Obra                                               1                   0.20   \n",
       "Cód._Obra                                          1                   0.20   \n",
       "Responsável                                        1                   0.20   \n",
       "\n",
       "                                      Dtype  \n",
       "Total_em_Aberto                      object  \n",
       "Data_da_alteração_de_situação        object  \n",
       "Descrição_da_alteração_de_situação   object  \n",
       "Total_Mão_de_Obra                    object  \n",
       "Total_Medido                         object  \n",
       "Departamento_previsão                object  \n",
       "Cód._departamento_previsão          float64  \n",
       "Centro_custo_previsão                object  \n",
       "Cód._Centro_custo_previsão          float64  \n",
       "Total                                object  \n",
       "Situação_de_Autorização              object  \n",
       "Tipo_do_Contrato                     object  \n",
       "Cód._Tipo_do_Contrato               float64  \n",
       "Autorizado_por                       object  \n",
       "Contrato                             object  \n",
       "Empresa                              object  \n",
       "Situação_do_Contrato                 object  \n",
       "Data_de_Término                      object  \n",
       "Data_do_Contrato                     object  \n",
       "_Objeto_do_Contrato                  object  \n",
       "CPF/CNPJ_Fornecedor                  object  \n",
       "Fornecedor*                          object  \n",
       "Cód._Fornecedor                     float64  \n",
       "Obra                                 object  \n",
       "Cód._Obra                           float64  \n",
       "Responsável                          object  "
      ]
     },
     "execution_count": 164,
     "metadata": {},
     "output_type": "execute_result"
    }
   ],
   "source": [
    "func_calc_percentual_valores_ausentes_coluna(df)"
   ]
  },
  {
   "cell_type": "code",
   "execution_count": 22,
   "id": "406ff6ce-c322-4e83-bb33-0432aeadf849",
   "metadata": {},
   "outputs": [],
   "source": [
    "df = df.drop(columns=['Cód._Centro_custo_sinal','Total_Sinal','Observação_da_previsão'])"
   ]
  },
  {
   "cell_type": "markdown",
   "id": "313427f4-5e39-456c-85e4-6bd2af1654bf",
   "metadata": {},
   "source": [
    "Total_Material"
   ]
  },
  {
   "cell_type": "code",
   "execution_count": 25,
   "id": "e26755dd-95ef-466e-bf88-a024e212a748",
   "metadata": {},
   "outputs": [
    {
     "data": {
      "text/plain": [
       "0             NaN\n",
       "1     R$ 3.849,01\n",
       "2             NaN\n",
       "3             NaN\n",
       "4             NaN\n",
       "5             NaN\n",
       "6             NaN\n",
       "7    R$ 48.070,00\n",
       "8     R$ 9.521,13\n",
       "9             NaN\n",
       "Name: Total_Material, dtype: object"
      ]
     },
     "execution_count": 25,
     "metadata": {},
     "output_type": "execute_result"
    }
   ],
   "source": [
    "df.Total_Material.head(10)"
   ]
  },
  {
   "cell_type": "code",
   "execution_count": 26,
   "id": "624a711d-dbc6-469c-817a-5a422ad0a194",
   "metadata": {},
   "outputs": [
    {
     "name": "stdout",
     "output_type": "stream",
     "text": [
      "343 valores ausentes na coluna Total_Material foram substituídos por 0.\n"
     ]
    },
    {
     "data": {
      "text/plain": [
       "0                     0\n",
       "1           R$ 3.849,01\n",
       "2                     0\n",
       "3                     0\n",
       "4                     0\n",
       "             ...       \n",
       "504                   0\n",
       "505                   0\n",
       "506                   0\n",
       "507                   0\n",
       "508    R$ 52.574.077,64\n",
       "Name: Total_Material, Length: 509, dtype: object"
      ]
     },
     "execution_count": 26,
     "metadata": {},
     "output_type": "execute_result"
    }
   ],
   "source": [
    "fix_missing_value(df, 'Total_Material' , 0) # Preechendo valores ausentes com 0"
   ]
  },
  {
   "cell_type": "code",
   "execution_count": 27,
   "id": "89f6e992-a53d-46f6-8c98-3896f9ed6744",
   "metadata": {},
   "outputs": [],
   "source": [
    "# Remover espaços invisíveis e caracteres especiais como 'R$'\n",
    "df['Total_Material'] = df['Total_Material'].astype(str).str.replace(r'[^\\d,.-]', '', regex=True)\n",
    "\n",
    "# Substituir ponto (separador de milhar) por nada e vírgula decimal por ponto\n",
    "df['Total_Material'] = df['Total_Material'].str.replace(r'\\.', ',', regex=True).str.replace(',', '.')\n",
    "\n",
    "# Converter para float e preencher valores ausentes com 0\n",
    "df['Total_Material'] = pd.to_numeric(df['Total_Material'], errors='coerce').fillna(0)"
   ]
  },
  {
   "cell_type": "code",
   "execution_count": 28,
   "id": "9b808948-70a8-4ab1-8a4c-3ea09d5c1478",
   "metadata": {},
   "outputs": [
    {
     "data": {
      "text/plain": [
       "0"
      ]
     },
     "execution_count": 28,
     "metadata": {},
     "output_type": "execute_result"
    }
   ],
   "source": [
    "df.Total_Material.isnull().sum()"
   ]
  },
  {
   "cell_type": "code",
   "execution_count": null,
   "id": "fd16eb51-a87c-4de4-a25e-7fc3cdfbd4cb",
   "metadata": {},
   "outputs": [],
   "source": [
    "Tratando Variavel Centro_custo_sinal "
   ]
  },
  {
   "cell_type": "markdown",
   "id": "df2adba9-78b4-463e-a596-24b080a8482b",
   "metadata": {},
   "source": [
    "## Tratando Variavel Centro_custo_sinal"
   ]
  },
  {
   "cell_type": "code",
   "execution_count": 64,
   "id": "fe8937d5-ff8b-4328-bebf-06c8e32172e7",
   "metadata": {},
   "outputs": [
    {
     "data": {
      "text/plain": [
       "509"
      ]
     },
     "execution_count": 64,
     "metadata": {},
     "output_type": "execute_result"
    }
   ],
   "source": [
    "df.Centro_custo_sinal.isnull().sum() # Count values "
   ]
  },
  {
   "cell_type": "code",
   "execution_count": 73,
   "id": "236dfcc7-c7a1-4afe-acb9-36ff0a492fde",
   "metadata": {},
   "outputs": [
    {
     "data": {
      "text/plain": [
       "100.0"
      ]
     },
     "execution_count": 73,
     "metadata": {},
     "output_type": "execute_result"
    }
   ],
   "source": [
    "df.Centro_custo_sinal.isnull().mean()*100"
   ]
  },
  {
   "cell_type": "markdown",
   "id": "c93e0b0f-a7c4-4abe-a608-881c1076b7ea",
   "metadata": {},
   "source": [
    "> ### Pela varivel \"Centro_custo_sinal\" ter 100% de valores ausentes optamos por deletar a mesma do DF !"
   ]
  },
  {
   "cell_type": "code",
   "execution_count": 84,
   "id": "9dc91235-e02a-4563-b611-f4388fb9820c",
   "metadata": {},
   "outputs": [],
   "source": [
    "df = df.drop(columns=['Centro_custo_sinal'])"
   ]
  },
  {
   "cell_type": "markdown",
   "id": "be5d3bec-5f2d-46bb-a9b4-b908b81daa6f",
   "metadata": {},
   "source": [
    "### Tratando Variavel \"Total_em_Aberto\" "
   ]
  },
  {
   "cell_type": "code",
   "execution_count": 89,
   "id": "2bbca7aa-7efa-472d-a6e1-a5cba9bc49f5",
   "metadata": {},
   "outputs": [
    {
     "data": {
      "text/plain": [
       "289"
      ]
     },
     "execution_count": 89,
     "metadata": {},
     "output_type": "execute_result"
    }
   ],
   "source": [
    "df.Total_em_Aberto.isnull().sum()"
   ]
  },
  {
   "cell_type": "code",
   "execution_count": 91,
   "id": "5e44d4b0-4e55-4189-b484-e88a7903ca57",
   "metadata": {},
   "outputs": [
    {
     "data": {
      "text/plain": [
       "56.777996070726914"
      ]
     },
     "execution_count": 91,
     "metadata": {},
     "output_type": "execute_result"
    }
   ],
   "source": [
    "df.Total_em_Aberto.isnull().mean()*100"
   ]
  },
  {
   "cell_type": "markdown",
   "id": "3f086c79-3022-4f03-8e96-5acd928e2410",
   "metadata": {},
   "source": [
    "A variavel \"Total_em_Aberto\" tem mais que 56% dos valores ausentes em sua construção porem a mesma não pode ser deletada! "
   ]
  },
  {
   "cell_type": "code",
   "execution_count": 108,
   "id": "9efda774-dc49-4e47-8fbb-584209b2f378",
   "metadata": {},
   "outputs": [],
   "source": [
    "# Definição da função\n",
    "def formatar_valor_brasileiro(coluna):\n",
    "    \"\"\"\n",
    "    Remove o símbolo 'R$', formata o número no padrão brasileiro\n",
    "    e converte para float64.\n",
    "    \"\"\"\n",
    "    return (\n",
    "        coluna.astype(str)  \n",
    "        .str.replace(r'[^\\d,]', '', regex=True)  # Remove tudo que não for número ou vírgula\n",
    "        .str.replace(',', '.')  # Substitui vírgula decimal por ponto\n",
    "        .astype(float)  # Converte para float64\n",
    "    )\n",
    "\n",
    "# Aplicação no DataFrame (verifique se a coluna está correta!)\n",
    "df['Total_Material'] = formatar_valor_brasileiro(df['Total_Material'])"
   ]
  },
  {
   "cell_type": "code",
   "execution_count": 126,
   "id": "e4501cf3-ce09-4608-bf10-00746a299797",
   "metadata": {},
   "outputs": [
    {
     "data": {
      "text/plain": [
       "0"
      ]
     },
     "execution_count": 126,
     "metadata": {},
     "output_type": "execute_result"
    }
   ],
   "source": [
    "df.Total_Material.isnull().sum() # Count values missing"
   ]
  },
  {
   "cell_type": "code",
   "execution_count": 128,
   "id": "fb24495a-9c98-44dc-929a-5babccd37d86",
   "metadata": {},
   "outputs": [
    {
     "data": {
      "text/plain": [
       "dtype('float64')"
      ]
     },
     "execution_count": 128,
     "metadata": {},
     "output_type": "execute_result"
    }
   ],
   "source": [
    "df.Total_Material.dtype # Convertido de Str para Float "
   ]
  },
  {
   "cell_type": "markdown",
   "id": "fa744dab-4487-4fdb-84d3-a731587ff7a6",
   "metadata": {},
   "source": [
    "## Tratando \"Variavel Saldo\""
   ]
  },
  {
   "cell_type": "code",
   "execution_count": 136,
   "id": "938dd6d5-23a1-42dc-87b0-5bb635266fdc",
   "metadata": {},
   "outputs": [
    {
     "data": {
      "text/plain": [
       "289"
      ]
     },
     "execution_count": 136,
     "metadata": {},
     "output_type": "execute_result"
    }
   ],
   "source": [
    "df.Saldo.isnull().sum()"
   ]
  },
  {
   "cell_type": "code",
   "execution_count": 138,
   "id": "24c94444-56a3-424c-a78f-01c92e41a307",
   "metadata": {},
   "outputs": [
    {
     "data": {
      "text/plain": [
       "dtype('O')"
      ]
     },
     "execution_count": 138,
     "metadata": {},
     "output_type": "execute_result"
    }
   ],
   "source": [
    "df.Saldo.dtype"
   ]
  },
  {
   "cell_type": "code",
   "execution_count": 146,
   "id": "df49f06e-0407-441f-a032-c981cb016ffa",
   "metadata": {},
   "outputs": [],
   "source": [
    "def limpar_e_converter(coluna):\n",
    "    \"\"\"\n",
    "    Remove símbolos monetários, espaços invisíveis, substitui vírgula por ponto e converte para float.\n",
    "    Ignora valores vazios.\n",
    "    \"\"\"\n",
    "    return (\n",
    "        coluna.astype(str)\n",
    "        .str.replace(r'[^\\d,]', '', regex=True)  # Remove tudo que não for número ou vírgula\n",
    "        .str.replace(',', '.', regex=False)  # Substitui vírgula decimal por ponto\n",
    "        .replace('', np.nan)  # Substitui strings vazias por NaN\n",
    "        .astype(float)  # Converte para float\n",
    "    )\n",
    "\n",
    "# Aplicação da função na coluna 'Saldo'\n",
    "df['Saldo'] = limpar_e_converter(df['Saldo'])"
   ]
  },
  {
   "cell_type": "code",
   "execution_count": 150,
   "id": "0ceecaf6-bb56-4a8c-bfa3-499f3f50cfd7",
   "metadata": {},
   "outputs": [
    {
     "name": "stdout",
     "output_type": "stream",
     "text": [
      "289 valores ausentes na coluna Saldo foram substituídos por 0.\n"
     ]
    },
    {
     "data": {
      "text/plain": [
       "0      0.000000e+00\n",
       "1      0.000000e+00\n",
       "2      4.455000e+04\n",
       "3      0.000000e+00\n",
       "4      0.000000e+00\n",
       "           ...     \n",
       "504    1.000000e+05\n",
       "505    0.000000e+00\n",
       "506    0.000000e+00\n",
       "507    0.000000e+00\n",
       "508    4.432851e+09\n",
       "Name: Saldo, Length: 509, dtype: float64"
      ]
     },
     "execution_count": 150,
     "metadata": {},
     "output_type": "execute_result"
    }
   ],
   "source": [
    "fix_missing_value(df, 'Saldo' , 0) # Preechendo valores ausentes com 0"
   ]
  },
  {
   "cell_type": "code",
   "execution_count": 154,
   "id": "5cdfdd03-e5d7-4019-b52e-cae8b276faf8",
   "metadata": {},
   "outputs": [],
   "source": [
    "df['Saldo'] = df['Saldo'].map(lambda x: f\"{x:,.2f}\".replace('.', ','))"
   ]
  },
  {
   "cell_type": "code",
   "execution_count": 162,
   "id": "fe736212-6849-47ac-89d6-7fee48230939",
   "metadata": {},
   "outputs": [
    {
     "data": {
      "text/plain": [
       "0         0,00\n",
       "1         0,00\n",
       "2    44,550,00\n",
       "3         0,00\n",
       "4         0,00\n",
       "Name: Saldo, dtype: object"
      ]
     },
     "execution_count": 162,
     "metadata": {},
     "output_type": "execute_result"
    }
   ],
   "source": [
    "df.Saldo.head()"
   ]
  },
  {
   "cell_type": "markdown",
   "id": "573dc50e-8646-4639-9add-8bf3b3e46647",
   "metadata": {},
   "source": [
    "### Tratando Valores ausentes em Total_em_Aberto"
   ]
  },
  {
   "cell_type": "code",
   "execution_count": 170,
   "id": "0b105860-cba7-41e9-b791-d972c3f08bb2",
   "metadata": {},
   "outputs": [
    {
     "data": {
      "text/plain": [
       "289"
      ]
     },
     "execution_count": 170,
     "metadata": {},
     "output_type": "execute_result"
    }
   ],
   "source": [
    "df.Total_em_Aberto.isnull().sum()"
   ]
  },
  {
   "cell_type": "code",
   "execution_count": 174,
   "id": "eb0864ba-f6dc-4b6c-842f-b01759bcc282",
   "metadata": {},
   "outputs": [
    {
     "data": {
      "text/plain": [
       "56.777996070726914"
      ]
     },
     "execution_count": 174,
     "metadata": {},
     "output_type": "execute_result"
    }
   ],
   "source": [
    "df.Total_em_Aberto.isnull().mean()*100"
   ]
  },
  {
   "cell_type": "markdown",
   "id": "8394d132-4a80-409d-bdd8-c44ac4a298d8",
   "metadata": {},
   "source": [
    "### A variavel Total_em_Aberto tem mais que 30% de valores ausentes porem a mesma é importate para os dados do cliente! "
   ]
  },
  {
   "cell_type": "code",
   "execution_count": 179,
   "id": "53f32ac8-5370-4d8a-a352-bcc21e7b2ef7",
   "metadata": {},
   "outputs": [],
   "source": [
    "def limpar_e_converter(coluna):\n",
    "    \"\"\"\n",
    "    Remove símbolos monetários, espaços invisíveis, substitui vírgula por ponto e converte para float.\n",
    "    Ignora valores vazios.\n",
    "    \"\"\"\n",
    "    return (\n",
    "        coluna.astype(str)\n",
    "        .str.replace(r'[^\\d,]', '', regex=True)  # Remove tudo que não for número ou vírgula\n",
    "        .str.replace(',', '.', regex=False)  # Substitui vírgula decimal por ponto\n",
    "        .replace('', np.nan)  # Substitui strings vazias por NaN\n",
    "        .astype(float)  # Converte para float\n",
    "    )\n",
    "\n",
    "# Aplicação da função na coluna 'Saldo'\n",
    "df['Total_em_Aberto'] = limpar_e_converter(df['Total_em_Aberto'])"
   ]
  },
  {
   "cell_type": "code",
   "execution_count": 183,
   "id": "ddb1b2aa-a579-4cb9-b366-f644affe7b45",
   "metadata": {},
   "outputs": [],
   "source": [
    "df['Total_em_Aberto'] = df['Total_em_Aberto'].map(lambda x: f\"{x:,.2f}\".replace('.', ','))"
   ]
  },
  {
   "cell_type": "code",
   "execution_count": 187,
   "id": "37050bc8-aec6-43f0-bcc1-05e14f0702be",
   "metadata": {},
   "outputs": [
    {
     "data": {
      "text/plain": [
       "0         nan\n",
       "1         nan\n",
       "2    4,455,00\n",
       "3         nan\n",
       "4         nan\n",
       "Name: Total_em_Aberto, dtype: object"
      ]
     },
     "execution_count": 187,
     "metadata": {},
     "output_type": "execute_result"
    }
   ],
   "source": [
    "df.Total_em_Aberto.head()"
   ]
  },
  {
   "cell_type": "code",
   "execution_count": null,
   "id": "1ea0721e-922a-4f15-8d11-46f3473caf51",
   "metadata": {},
   "outputs": [],
   "source": []
  }
 ],
 "metadata": {
  "kernelspec": {
   "display_name": "Python [conda env:meu_ambiente]",
   "language": "python",
   "name": "conda-env-meu_ambiente-py"
  },
  "language_info": {
   "codemirror_mode": {
    "name": "ipython",
    "version": 3
   },
   "file_extension": ".py",
   "mimetype": "text/x-python",
   "name": "python",
   "nbconvert_exporter": "python",
   "pygments_lexer": "ipython3",
   "version": "3.8.20"
  }
 },
 "nbformat": 4,
 "nbformat_minor": 5
}
