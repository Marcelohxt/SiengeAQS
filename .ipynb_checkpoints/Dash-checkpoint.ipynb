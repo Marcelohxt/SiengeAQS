{
 "cells": [
  {
   "cell_type": "markdown",
   "id": "ee63181a-07c5-40ab-9a26-873b778cd49f",
   "metadata": {},
   "source": [
    "# <font color='blue'>Data Science</font>\n",
    "# <font color='blue'>Análise de Dados com Linguagem Python</font>\n",
    "\n",
    "## <font color='blue'>Suprimentos</font>\n",
    "## <font color='blue'>Análise de Dados Para Traçar Estratégias Com base em ERP Sienge</font>"
   ]
  },
  {
   "cell_type": "code",
   "execution_count": 8,
   "id": "dab6c305-b85e-4e4b-9564-141b30bbfe50",
   "metadata": {},
   "outputs": [],
   "source": [
    "# Imports\n",
    "import math\n",
    "import sys, os\n",
    "import numpy as np\n",
    "import pandas as pd\n",
    "import watermark \n",
    "import pandas as pd\n",
    "import numpy as np\n",
    "from sklearn import linear_model\n",
    "import warnings\n",
    "warnings.filterwarnings(\"ignore\")"
   ]
  },
  {
   "cell_type": "code",
   "execution_count": 11,
   "id": "193ff7dc-d52b-4d86-87fb-60f8f7eccb47",
   "metadata": {},
   "outputs": [],
   "source": [
    "sys.path.append(os.path.abspath(os.path.join('modulos')))\n",
    "from estrategia1 import *\n",
    "from estrategia2 import *\n",
    "from estrategia3 import *"
   ]
  },
  {
   "cell_type": "code",
   "execution_count": null,
   "id": "1bcb19ab-49d4-4d73-8744-424c2eea7d4f",
   "metadata": {},
   "outputs": [],
   "source": []
  }
 ],
 "metadata": {
  "kernelspec": {
   "display_name": "Python [conda env:meu_ambiente]",
   "language": "python",
   "name": "conda-env-meu_ambiente-py"
  },
  "language_info": {
   "codemirror_mode": {
    "name": "ipython",
    "version": 3
   },
   "file_extension": ".py",
   "mimetype": "text/x-python",
   "name": "python",
   "nbconvert_exporter": "python",
   "pygments_lexer": "ipython3",
   "version": "3.8.20"
  }
 },
 "nbformat": 4,
 "nbformat_minor": 5
}
