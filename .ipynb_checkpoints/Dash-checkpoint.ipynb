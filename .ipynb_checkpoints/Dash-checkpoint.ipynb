{
 "cells": [
  {
   "cell_type": "markdown",
   "id": "ee63181a-07c5-40ab-9a26-873b778cd49f",
   "metadata": {},
   "source": [
    "# <font color='blue'>Data Science</font>\n",
    "# <font color='blue'>Análise de Dados com Linguagem Python</font>\n",
    "\n",
    "## <font color='blue'>Suprimentos</font>\n",
    "## <font color='blue'>Análise de Dados Para Traçar Estratégias Com base em ERP Sienge</font>"
   ]
  },
  {
   "cell_type": "code",
   "execution_count": 172,
   "id": "dab6c305-b85e-4e4b-9564-141b30bbfe50",
   "metadata": {},
   "outputs": [],
   "source": [
    "# Imports\n",
    "import math\n",
    "import sys, os\n",
    "import numpy as np\n",
    "import pandas as pd\n",
    "import watermark \n",
    "import pandas as pd\n",
    "import numpy as np\n",
    "from sklearn import linear_model\n",
    "import warnings\n",
    "warnings.filterwarnings(\"ignore\")"
   ]
  },
  {
   "cell_type": "code",
   "execution_count": 173,
   "id": "193ff7dc-d52b-4d86-87fb-60f8f7eccb47",
   "metadata": {},
   "outputs": [],
   "source": [
    "sys.path.append(os.path.abspath(os.path.join('modulos')))\n",
    "from estrategia1 import *\n",
    "from estrategia2 import *\n",
    "from estrategia3 import *"
   ]
  },
  {
   "cell_type": "markdown",
   "id": "da4b6ee0-055e-4d2c-b742-a6ba5e9acb40",
   "metadata": {},
   "source": [
    "## Carregando os Dados\n",
    "\n",
    "https://pandas.pydata.org/docs/reference/api/pandas.read_csv.html"
   ]
  },
  {
   "cell_type": "code",
   "execution_count": 175,
   "id": "99649d50-8267-46c8-a4d6-94986f2b139a",
   "metadata": {},
   "outputs": [],
   "source": [
    "# Carrega o dataset\n",
    "df = pd.read_csv(\"dados/siengeRelatorio.csv\", sep=\";\")\n"
   ]
  },
  {
   "cell_type": "code",
   "execution_count": 176,
   "id": "2066664e-a76a-450b-8e12-26e274a8759d",
   "metadata": {},
   "outputs": [
    {
     "data": {
      "text/plain": [
       "(509, 42)"
      ]
     },
     "execution_count": 176,
     "metadata": {},
     "output_type": "execute_result"
    }
   ],
   "source": [
    "df.shape"
   ]
  },
  {
   "cell_type": "code",
   "execution_count": 177,
   "id": "cd2e1eb3-66ea-49a8-8c3d-98e4014c992f",
   "metadata": {},
   "outputs": [
    {
     "data": {
      "text/html": [
       "<div>\n",
       "<style scoped>\n",
       "    .dataframe tbody tr th:only-of-type {\n",
       "        vertical-align: middle;\n",
       "    }\n",
       "\n",
       "    .dataframe tbody tr th {\n",
       "        vertical-align: top;\n",
       "    }\n",
       "\n",
       "    .dataframe thead th {\n",
       "        text-align: right;\n",
       "    }\n",
       "</style>\n",
       "<table border=\"1\" class=\"dataframe\">\n",
       "  <thead>\n",
       "    <tr style=\"text-align: right;\">\n",
       "      <th></th>\n",
       "      <th>Contrato</th>\n",
       "      <th>Empresa</th>\n",
       "      <th>Cód. Obra</th>\n",
       "      <th>Obra</th>\n",
       "      <th>Cód. Fornecedor</th>\n",
       "      <th>Fornecedor*</th>\n",
       "      <th>CPF/CNPJ Fornecedor</th>\n",
       "      <th>Objeto do Contrato</th>\n",
       "      <th>Data do Contrato</th>\n",
       "      <th>Data de Término</th>\n",
       "      <th>...</th>\n",
       "      <th>Cód. Departamento sinal</th>\n",
       "      <th>Departamento sinal</th>\n",
       "      <th>Vencimento do sinal</th>\n",
       "      <th>Observação do sinal</th>\n",
       "      <th>Retém impostos no sinal</th>\n",
       "      <th>Total Fat. Direto</th>\n",
       "      <th>Total Fat. Direto Vinculado</th>\n",
       "      <th>Fat. direto outro(s) contrato(s)</th>\n",
       "      <th>Fat. direto considera indice</th>\n",
       "      <th>Fat. direto por desconto</th>\n",
       "    </tr>\n",
       "  </thead>\n",
       "  <tbody>\n",
       "    <tr>\n",
       "      <th>0</th>\n",
       "      <td>CTF/7400121</td>\n",
       "      <td>740 - BLVD ALTI EMPREENDIMENTO IMOBILIÁRIO LTDA</td>\n",
       "      <td>74000.0</td>\n",
       "      <td>PROJETO BLVD ALTI</td>\n",
       "      <td>4130.0</td>\n",
       "      <td>GCS PROMOCAO E PUBLICIDADE LTDA</td>\n",
       "      <td>28.660.162/0001-75</td>\n",
       "      <td>PONTOS DE CAPTAÇÃO - GCS PROMOÇÕES</td>\n",
       "      <td>21/11/2024</td>\n",
       "      <td>01/06/2025</td>\n",
       "      <td>...</td>\n",
       "      <td>NaN</td>\n",
       "      <td>NaN</td>\n",
       "      <td>NaN</td>\n",
       "      <td>NaN</td>\n",
       "      <td>não</td>\n",
       "      <td>NaN</td>\n",
       "      <td>NaN</td>\n",
       "      <td>não</td>\n",
       "      <td>não</td>\n",
       "      <td>não</td>\n",
       "    </tr>\n",
       "    <tr>\n",
       "      <th>1</th>\n",
       "      <td>CTF/7400120</td>\n",
       "      <td>740 - BLVD ALTI EMPREENDIMENTO IMOBILIÁRIO LTDA</td>\n",
       "      <td>74000.0</td>\n",
       "      <td>PROJETO BLVD ALTI</td>\n",
       "      <td>2841.0</td>\n",
       "      <td>MAXIMA MARKETING PROMOCIONAL LTDA</td>\n",
       "      <td>18.666.314/0001-93</td>\n",
       "      <td>LOCAÇÃO DE BISTROS - MAXIMA</td>\n",
       "      <td>04/11/2024</td>\n",
       "      <td>04/02/2025</td>\n",
       "      <td>...</td>\n",
       "      <td>NaN</td>\n",
       "      <td>NaN</td>\n",
       "      <td>NaN</td>\n",
       "      <td>NaN</td>\n",
       "      <td>não</td>\n",
       "      <td>NaN</td>\n",
       "      <td>NaN</td>\n",
       "      <td>não</td>\n",
       "      <td>não</td>\n",
       "      <td>não</td>\n",
       "    </tr>\n",
       "    <tr>\n",
       "      <th>2</th>\n",
       "      <td>CTF/7400119</td>\n",
       "      <td>740 - BLVD ALTI EMPREENDIMENTO IMOBILIÁRIO LTDA</td>\n",
       "      <td>74000.0</td>\n",
       "      <td>PROJETO BLVD ALTI</td>\n",
       "      <td>2709.0</td>\n",
       "      <td>ALL COPIAS</td>\n",
       "      <td>56.927.924/0001-92</td>\n",
       "      <td>MATERIAIS GRAFICOS - ALL CÓPIAS</td>\n",
       "      <td>26/11/2024</td>\n",
       "      <td>26/04/2025</td>\n",
       "      <td>...</td>\n",
       "      <td>NaN</td>\n",
       "      <td>NaN</td>\n",
       "      <td>NaN</td>\n",
       "      <td>NaN</td>\n",
       "      <td>não</td>\n",
       "      <td>NaN</td>\n",
       "      <td>NaN</td>\n",
       "      <td>não</td>\n",
       "      <td>não</td>\n",
       "      <td>não</td>\n",
       "    </tr>\n",
       "    <tr>\n",
       "      <th>3</th>\n",
       "      <td>CTF/7400118</td>\n",
       "      <td>740 - BLVD ALTI EMPREENDIMENTO IMOBILIÁRIO LTDA</td>\n",
       "      <td>74000.0</td>\n",
       "      <td>PROJETO BLVD ALTI</td>\n",
       "      <td>4136.0</td>\n",
       "      <td>PUBLICKER SERVICOS E COMERCIO LTDA</td>\n",
       "      <td>15.479.964/0001-31</td>\n",
       "      <td>MIDIA - PUBLICKER</td>\n",
       "      <td>26/11/2024</td>\n",
       "      <td>26/02/2025</td>\n",
       "      <td>...</td>\n",
       "      <td>NaN</td>\n",
       "      <td>NaN</td>\n",
       "      <td>NaN</td>\n",
       "      <td>NaN</td>\n",
       "      <td>não</td>\n",
       "      <td>NaN</td>\n",
       "      <td>NaN</td>\n",
       "      <td>não</td>\n",
       "      <td>não</td>\n",
       "      <td>não</td>\n",
       "    </tr>\n",
       "    <tr>\n",
       "      <th>4</th>\n",
       "      <td>CTF/7400117</td>\n",
       "      <td>740 - BLVD ALTI EMPREENDIMENTO IMOBILIÁRIO LTDA</td>\n",
       "      <td>74000.0</td>\n",
       "      <td>PROJETO BLVD ALTI</td>\n",
       "      <td>4135.0</td>\n",
       "      <td>DUVALE PUBLICIDADE LTDA</td>\n",
       "      <td>56.869.092/0001-03</td>\n",
       "      <td>PUBLICAÇÃO DE ANUNCIO - DUVALE</td>\n",
       "      <td>26/11/2024</td>\n",
       "      <td>26/01/2025</td>\n",
       "      <td>...</td>\n",
       "      <td>NaN</td>\n",
       "      <td>NaN</td>\n",
       "      <td>NaN</td>\n",
       "      <td>NaN</td>\n",
       "      <td>não</td>\n",
       "      <td>NaN</td>\n",
       "      <td>NaN</td>\n",
       "      <td>não</td>\n",
       "      <td>não</td>\n",
       "      <td>não</td>\n",
       "    </tr>\n",
       "  </tbody>\n",
       "</table>\n",
       "<p>5 rows × 42 columns</p>\n",
       "</div>"
      ],
      "text/plain": [
       "      Contrato                                          Empresa  Cód. Obra  \\\n",
       "0  CTF/7400121  740 - BLVD ALTI EMPREENDIMENTO IMOBILIÁRIO LTDA    74000.0   \n",
       "1  CTF/7400120  740 - BLVD ALTI EMPREENDIMENTO IMOBILIÁRIO LTDA    74000.0   \n",
       "2  CTF/7400119  740 - BLVD ALTI EMPREENDIMENTO IMOBILIÁRIO LTDA    74000.0   \n",
       "3  CTF/7400118  740 - BLVD ALTI EMPREENDIMENTO IMOBILIÁRIO LTDA    74000.0   \n",
       "4  CTF/7400117  740 - BLVD ALTI EMPREENDIMENTO IMOBILIÁRIO LTDA    74000.0   \n",
       "\n",
       "                Obra  Cód. Fornecedor                         Fornecedor*  \\\n",
       "0  PROJETO BLVD ALTI           4130.0     GCS PROMOCAO E PUBLICIDADE LTDA   \n",
       "1  PROJETO BLVD ALTI           2841.0   MAXIMA MARKETING PROMOCIONAL LTDA   \n",
       "2  PROJETO BLVD ALTI           2709.0                          ALL COPIAS   \n",
       "3  PROJETO BLVD ALTI           4136.0  PUBLICKER SERVICOS E COMERCIO LTDA   \n",
       "4  PROJETO BLVD ALTI           4135.0             DUVALE PUBLICIDADE LTDA   \n",
       "\n",
       "  CPF/CNPJ Fornecedor                  Objeto do Contrato Data do Contrato  \\\n",
       "0  28.660.162/0001-75  PONTOS DE CAPTAÇÃO - GCS PROMOÇÕES       21/11/2024   \n",
       "1  18.666.314/0001-93         LOCAÇÃO DE BISTROS - MAXIMA       04/11/2024   \n",
       "2  56.927.924/0001-92     MATERIAIS GRAFICOS - ALL CÓPIAS       26/11/2024   \n",
       "3  15.479.964/0001-31                   MIDIA - PUBLICKER       26/11/2024   \n",
       "4  56.869.092/0001-03      PUBLICAÇÃO DE ANUNCIO - DUVALE       26/11/2024   \n",
       "\n",
       "  Data de Término  ... Cód. Departamento sinal Departamento sinal  \\\n",
       "0      01/06/2025  ...                     NaN                NaN   \n",
       "1      04/02/2025  ...                     NaN                NaN   \n",
       "2      26/04/2025  ...                     NaN                NaN   \n",
       "3      26/02/2025  ...                     NaN                NaN   \n",
       "4      26/01/2025  ...                     NaN                NaN   \n",
       "\n",
       "  Vencimento do sinal Observação do sinal Retém impostos no sinal  \\\n",
       "0                 NaN                 NaN                     não   \n",
       "1                 NaN                 NaN                     não   \n",
       "2                 NaN                 NaN                     não   \n",
       "3                 NaN                 NaN                     não   \n",
       "4                 NaN                 NaN                     não   \n",
       "\n",
       "  Total Fat. Direto  Total Fat. Direto Vinculado  \\\n",
       "0               NaN                          NaN   \n",
       "1               NaN                          NaN   \n",
       "2               NaN                          NaN   \n",
       "3               NaN                          NaN   \n",
       "4               NaN                          NaN   \n",
       "\n",
       "  Fat. direto outro(s) contrato(s) Fat. direto considera indice  \\\n",
       "0                              não                          não   \n",
       "1                              não                          não   \n",
       "2                              não                          não   \n",
       "3                              não                          não   \n",
       "4                              não                          não   \n",
       "\n",
       "  Fat. direto por desconto  \n",
       "0                      não  \n",
       "1                      não  \n",
       "2                      não  \n",
       "3                      não  \n",
       "4                      não  \n",
       "\n",
       "[5 rows x 42 columns]"
      ]
     },
     "execution_count": 177,
     "metadata": {},
     "output_type": "execute_result"
    }
   ],
   "source": [
    "df.head(5)"
   ]
  },
  {
   "cell_type": "code",
   "execution_count": 178,
   "id": "8733ee8d-2207-4cca-8c35-e48b0121b59e",
   "metadata": {},
   "outputs": [
    {
     "data": {
      "text/plain": [
       "Contrato                                1\n",
       "Empresa                                 1\n",
       "Cód. Obra                               1\n",
       "Obra                                    1\n",
       "Cód. Fornecedor                         1\n",
       "Fornecedor*                             1\n",
       "CPF/CNPJ Fornecedor                     1\n",
       " Objeto do Contrato                     1\n",
       "Data do Contrato                        1\n",
       "Data de Término                         1\n",
       "Situação do Contrato                    1\n",
       "Data da alteração de situação         215\n",
       "Descrição da alteração de situação    215\n",
       "Responsável                             1\n",
       "Situação de Autorização                 1\n",
       "Autorizado por                          1\n",
       "Cód. Tipo do Contrato                   1\n",
       "Tipo do Contrato                        1\n",
       "Total Mão de Obra                     118\n",
       "Total Material                        343\n",
       "Total                                   6\n",
       "Total Medido                           35\n",
       "Saldo                                 289\n",
       "Cód. Centro custo previsão              9\n",
       "Centro custo previsão                   9\n",
       "Cód. departamento previsão              9\n",
       "Departamento previsão                   9\n",
       "Observação da previsão                465\n",
       "Total em Aberto                       289\n",
       "Total Sinal                           509\n",
       "Cód. Centro custo sinal               509\n",
       "Centro custo sinal                    509\n",
       "Cód. Departamento sinal               509\n",
       "Departamento sinal                    509\n",
       "Vencimento do sinal                   509\n",
       "Observação do sinal                   509\n",
       "Retém impostos no sinal                 0\n",
       "Total Fat. Direto                     501\n",
       "Total Fat. Direto Vinculado           502\n",
       "Fat. direto outro(s) contrato(s)        0\n",
       "Fat. direto considera indice            0\n",
       "Fat. direto por desconto                0\n",
       "dtype: int64"
      ]
     },
     "execution_count": 178,
     "metadata": {},
     "output_type": "execute_result"
    }
   ],
   "source": [
    "df.isna().sum()"
   ]
  },
  {
   "cell_type": "code",
   "execution_count": 179,
   "id": "27130dcd-2d77-42a9-b8f2-3a598145c6ba",
   "metadata": {},
   "outputs": [
    {
     "name": "stdout",
     "output_type": "stream",
     "text": [
      "<class 'pandas.core.frame.DataFrame'>\n",
      "RangeIndex: 509 entries, 0 to 508\n",
      "Data columns (total 42 columns):\n",
      " #   Column                              Non-Null Count  Dtype  \n",
      "---  ------                              --------------  -----  \n",
      " 0   Contrato                            508 non-null    object \n",
      " 1   Empresa                             508 non-null    object \n",
      " 2   Cód. Obra                           508 non-null    float64\n",
      " 3   Obra                                508 non-null    object \n",
      " 4   Cód. Fornecedor                     508 non-null    float64\n",
      " 5   Fornecedor*                         508 non-null    object \n",
      " 6   CPF/CNPJ Fornecedor                 508 non-null    object \n",
      " 7    Objeto do Contrato                 508 non-null    object \n",
      " 8   Data do Contrato                    508 non-null    object \n",
      " 9   Data de Término                     508 non-null    object \n",
      " 10  Situação do Contrato                508 non-null    object \n",
      " 11  Data da alteração de situação       294 non-null    object \n",
      " 12  Descrição da alteração de situação  294 non-null    object \n",
      " 13  Responsável                         508 non-null    object \n",
      " 14  Situação de Autorização             508 non-null    object \n",
      " 15  Autorizado por                      508 non-null    object \n",
      " 16  Cód. Tipo do Contrato               508 non-null    float64\n",
      " 17  Tipo do Contrato                    508 non-null    object \n",
      " 18  Total Mão de Obra                   391 non-null    object \n",
      " 19  Total Material                      166 non-null    object \n",
      " 20  Total                               503 non-null    object \n",
      " 21  Total Medido                        474 non-null    object \n",
      " 22  Saldo                               220 non-null    object \n",
      " 23  Cód. Centro custo previsão          500 non-null    float64\n",
      " 24  Centro custo previsão               500 non-null    object \n",
      " 25  Cód. departamento previsão          500 non-null    float64\n",
      " 26  Departamento previsão               500 non-null    object \n",
      " 27  Observação da previsão              44 non-null     object \n",
      " 28  Total em Aberto                     220 non-null    object \n",
      " 29  Total Sinal                         0 non-null      float64\n",
      " 30  Cód. Centro custo sinal             0 non-null      float64\n",
      " 31  Centro custo sinal                  0 non-null      float64\n",
      " 32  Cód. Departamento sinal             0 non-null      float64\n",
      " 33  Departamento sinal                  0 non-null      float64\n",
      " 34  Vencimento do sinal                 0 non-null      float64\n",
      " 35  Observação do sinal                 0 non-null      float64\n",
      " 36  Retém impostos no sinal             509 non-null    object \n",
      " 37  Total Fat. Direto                   8 non-null      object \n",
      " 38  Total Fat. Direto Vinculado         7 non-null      object \n",
      " 39  Fat. direto outro(s) contrato(s)    509 non-null    object \n",
      " 40  Fat. direto considera indice        509 non-null    object \n",
      " 41  Fat. direto por desconto            509 non-null    object \n",
      "dtypes: float64(12), object(30)\n",
      "memory usage: 167.1+ KB\n"
     ]
    }
   ],
   "source": [
    "df.info()"
   ]
  },
  {
   "cell_type": "code",
   "execution_count": 180,
   "id": "661c3ae0-26e2-4f39-b1f5-10f3df13dec1",
   "metadata": {},
   "outputs": [
    {
     "data": {
      "text/plain": [
       "Index(['Contrato', 'Empresa', 'Cód. Obra', 'Obra', 'Cód. Fornecedor',\n",
       "       'Fornecedor*', 'CPF/CNPJ Fornecedor', ' Objeto do Contrato',\n",
       "       'Data do Contrato', 'Data de Término', 'Situação do Contrato',\n",
       "       'Data da alteração de situação', 'Descrição da alteração de situação',\n",
       "       'Responsável', 'Situação de Autorização', 'Autorizado por',\n",
       "       'Cód. Tipo do Contrato', 'Tipo do Contrato', 'Total Mão de Obra',\n",
       "       'Total Material', 'Total', 'Total Medido', 'Saldo',\n",
       "       'Cód. Centro custo previsão', 'Centro custo previsão',\n",
       "       'Cód. departamento previsão', 'Departamento previsão',\n",
       "       'Observação da previsão', 'Total em Aberto', 'Total Sinal',\n",
       "       'Cód. Centro custo sinal', 'Centro custo sinal',\n",
       "       'Cód. Departamento sinal', 'Departamento sinal', 'Vencimento do sinal',\n",
       "       'Observação do sinal', 'Retém impostos no sinal', 'Total Fat. Direto',\n",
       "       'Total Fat. Direto Vinculado', 'Fat. direto outro(s) contrato(s)',\n",
       "       'Fat. direto considera indice', 'Fat. direto por desconto'],\n",
       "      dtype='object')"
      ]
     },
     "execution_count": 180,
     "metadata": {},
     "output_type": "execute_result"
    }
   ],
   "source": [
    "df.columns # See the list of columns after deletion!  "
   ]
  },
  {
   "cell_type": "code",
   "execution_count": 181,
   "id": "4bb38814-dfdd-4acb-adff-687bb6c9d0fb",
   "metadata": {},
   "outputs": [],
   "source": [
    "colunas_para_remover = [\n",
    "    \"Cód. Departamento sinal\", \"Departamento sinal\", \"Vencimento do sinal\",\n",
    "    \"Observação do sinal\", \"Retém impostos no sinal\", \"Total Fat. Direto\",\n",
    "    \"Total Fat. Direto Vinculado\", \"Fat. direto outro(s) contrato(s)\",\n",
    "    \"Fat. direto considera indice\", \"Fat. direto por desconto\"\n",
    "]\n",
    "\n",
    "df = df.drop(columns=colunas_para_remover)\n"
   ]
  },
  {
   "cell_type": "code",
   "execution_count": 182,
   "id": "6a7e27b4-be9a-4049-9fc8-fb53595b7629",
   "metadata": {},
   "outputs": [
    {
     "data": {
      "text/html": [
       "<div>\n",
       "<style scoped>\n",
       "    .dataframe tbody tr th:only-of-type {\n",
       "        vertical-align: middle;\n",
       "    }\n",
       "\n",
       "    .dataframe tbody tr th {\n",
       "        vertical-align: top;\n",
       "    }\n",
       "\n",
       "    .dataframe thead th {\n",
       "        text-align: right;\n",
       "    }\n",
       "</style>\n",
       "<table border=\"1\" class=\"dataframe\">\n",
       "  <thead>\n",
       "    <tr style=\"text-align: right;\">\n",
       "      <th></th>\n",
       "      <th>Contrato</th>\n",
       "      <th>Empresa</th>\n",
       "      <th>Cód. Obra</th>\n",
       "      <th>Obra</th>\n",
       "      <th>Cód. Fornecedor</th>\n",
       "      <th>Fornecedor*</th>\n",
       "      <th>CPF/CNPJ Fornecedor</th>\n",
       "      <th>Objeto do Contrato</th>\n",
       "      <th>Data do Contrato</th>\n",
       "      <th>Data de Término</th>\n",
       "      <th>...</th>\n",
       "      <th>Saldo</th>\n",
       "      <th>Cód. Centro custo previsão</th>\n",
       "      <th>Centro custo previsão</th>\n",
       "      <th>Cód. departamento previsão</th>\n",
       "      <th>Departamento previsão</th>\n",
       "      <th>Observação da previsão</th>\n",
       "      <th>Total em Aberto</th>\n",
       "      <th>Total Sinal</th>\n",
       "      <th>Cód. Centro custo sinal</th>\n",
       "      <th>Centro custo sinal</th>\n",
       "    </tr>\n",
       "  </thead>\n",
       "  <tbody>\n",
       "    <tr>\n",
       "      <th>0</th>\n",
       "      <td>CTF/7400121</td>\n",
       "      <td>740 - BLVD ALTI EMPREENDIMENTO IMOBILIÁRIO LTDA</td>\n",
       "      <td>74000.0</td>\n",
       "      <td>PROJETO BLVD ALTI</td>\n",
       "      <td>4130.0</td>\n",
       "      <td>GCS PROMOCAO E PUBLICIDADE LTDA</td>\n",
       "      <td>28.660.162/0001-75</td>\n",
       "      <td>PONTOS DE CAPTAÇÃO - GCS PROMOÇÕES</td>\n",
       "      <td>21/11/2024</td>\n",
       "      <td>01/06/2025</td>\n",
       "      <td>...</td>\n",
       "      <td>NaN</td>\n",
       "      <td>74020.0</td>\n",
       "      <td>INCORPORAÇÃO - BLVD ALTI</td>\n",
       "      <td>6.0</td>\n",
       "      <td>MARKETING</td>\n",
       "      <td>NaN</td>\n",
       "      <td>NaN</td>\n",
       "      <td>NaN</td>\n",
       "      <td>NaN</td>\n",
       "      <td>NaN</td>\n",
       "    </tr>\n",
       "    <tr>\n",
       "      <th>1</th>\n",
       "      <td>CTF/7400120</td>\n",
       "      <td>740 - BLVD ALTI EMPREENDIMENTO IMOBILIÁRIO LTDA</td>\n",
       "      <td>74000.0</td>\n",
       "      <td>PROJETO BLVD ALTI</td>\n",
       "      <td>2841.0</td>\n",
       "      <td>MAXIMA MARKETING PROMOCIONAL LTDA</td>\n",
       "      <td>18.666.314/0001-93</td>\n",
       "      <td>LOCAÇÃO DE BISTROS - MAXIMA</td>\n",
       "      <td>04/11/2024</td>\n",
       "      <td>04/02/2025</td>\n",
       "      <td>...</td>\n",
       "      <td>NaN</td>\n",
       "      <td>74020.0</td>\n",
       "      <td>INCORPORAÇÃO - BLVD ALTI</td>\n",
       "      <td>6.0</td>\n",
       "      <td>MARKETING</td>\n",
       "      <td>NaN</td>\n",
       "      <td>NaN</td>\n",
       "      <td>NaN</td>\n",
       "      <td>NaN</td>\n",
       "      <td>NaN</td>\n",
       "    </tr>\n",
       "    <tr>\n",
       "      <th>2</th>\n",
       "      <td>CTF/7400119</td>\n",
       "      <td>740 - BLVD ALTI EMPREENDIMENTO IMOBILIÁRIO LTDA</td>\n",
       "      <td>74000.0</td>\n",
       "      <td>PROJETO BLVD ALTI</td>\n",
       "      <td>2709.0</td>\n",
       "      <td>ALL COPIAS</td>\n",
       "      <td>56.927.924/0001-92</td>\n",
       "      <td>MATERIAIS GRAFICOS - ALL CÓPIAS</td>\n",
       "      <td>26/11/2024</td>\n",
       "      <td>26/04/2025</td>\n",
       "      <td>...</td>\n",
       "      <td>R$ 4.455,00</td>\n",
       "      <td>74020.0</td>\n",
       "      <td>INCORPORAÇÃO - BLVD ALTI</td>\n",
       "      <td>7.0</td>\n",
       "      <td>COMERCIAL</td>\n",
       "      <td>NaN</td>\n",
       "      <td>R$ 4.455,00</td>\n",
       "      <td>NaN</td>\n",
       "      <td>NaN</td>\n",
       "      <td>NaN</td>\n",
       "    </tr>\n",
       "    <tr>\n",
       "      <th>3</th>\n",
       "      <td>CTF/7400118</td>\n",
       "      <td>740 - BLVD ALTI EMPREENDIMENTO IMOBILIÁRIO LTDA</td>\n",
       "      <td>74000.0</td>\n",
       "      <td>PROJETO BLVD ALTI</td>\n",
       "      <td>4136.0</td>\n",
       "      <td>PUBLICKER SERVICOS E COMERCIO LTDA</td>\n",
       "      <td>15.479.964/0001-31</td>\n",
       "      <td>MIDIA - PUBLICKER</td>\n",
       "      <td>26/11/2024</td>\n",
       "      <td>26/02/2025</td>\n",
       "      <td>...</td>\n",
       "      <td>NaN</td>\n",
       "      <td>74020.0</td>\n",
       "      <td>INCORPORAÇÃO - BLVD ALTI</td>\n",
       "      <td>6.0</td>\n",
       "      <td>MARKETING</td>\n",
       "      <td>NaN</td>\n",
       "      <td>NaN</td>\n",
       "      <td>NaN</td>\n",
       "      <td>NaN</td>\n",
       "      <td>NaN</td>\n",
       "    </tr>\n",
       "    <tr>\n",
       "      <th>4</th>\n",
       "      <td>CTF/7400117</td>\n",
       "      <td>740 - BLVD ALTI EMPREENDIMENTO IMOBILIÁRIO LTDA</td>\n",
       "      <td>74000.0</td>\n",
       "      <td>PROJETO BLVD ALTI</td>\n",
       "      <td>4135.0</td>\n",
       "      <td>DUVALE PUBLICIDADE LTDA</td>\n",
       "      <td>56.869.092/0001-03</td>\n",
       "      <td>PUBLICAÇÃO DE ANUNCIO - DUVALE</td>\n",
       "      <td>26/11/2024</td>\n",
       "      <td>26/01/2025</td>\n",
       "      <td>...</td>\n",
       "      <td>NaN</td>\n",
       "      <td>74020.0</td>\n",
       "      <td>INCORPORAÇÃO - BLVD ALTI</td>\n",
       "      <td>6.0</td>\n",
       "      <td>MARKETING</td>\n",
       "      <td>NaN</td>\n",
       "      <td>NaN</td>\n",
       "      <td>NaN</td>\n",
       "      <td>NaN</td>\n",
       "      <td>NaN</td>\n",
       "    </tr>\n",
       "  </tbody>\n",
       "</table>\n",
       "<p>5 rows × 32 columns</p>\n",
       "</div>"
      ],
      "text/plain": [
       "      Contrato                                          Empresa  Cód. Obra  \\\n",
       "0  CTF/7400121  740 - BLVD ALTI EMPREENDIMENTO IMOBILIÁRIO LTDA    74000.0   \n",
       "1  CTF/7400120  740 - BLVD ALTI EMPREENDIMENTO IMOBILIÁRIO LTDA    74000.0   \n",
       "2  CTF/7400119  740 - BLVD ALTI EMPREENDIMENTO IMOBILIÁRIO LTDA    74000.0   \n",
       "3  CTF/7400118  740 - BLVD ALTI EMPREENDIMENTO IMOBILIÁRIO LTDA    74000.0   \n",
       "4  CTF/7400117  740 - BLVD ALTI EMPREENDIMENTO IMOBILIÁRIO LTDA    74000.0   \n",
       "\n",
       "                Obra  Cód. Fornecedor                         Fornecedor*  \\\n",
       "0  PROJETO BLVD ALTI           4130.0     GCS PROMOCAO E PUBLICIDADE LTDA   \n",
       "1  PROJETO BLVD ALTI           2841.0   MAXIMA MARKETING PROMOCIONAL LTDA   \n",
       "2  PROJETO BLVD ALTI           2709.0                          ALL COPIAS   \n",
       "3  PROJETO BLVD ALTI           4136.0  PUBLICKER SERVICOS E COMERCIO LTDA   \n",
       "4  PROJETO BLVD ALTI           4135.0             DUVALE PUBLICIDADE LTDA   \n",
       "\n",
       "  CPF/CNPJ Fornecedor                  Objeto do Contrato Data do Contrato  \\\n",
       "0  28.660.162/0001-75  PONTOS DE CAPTAÇÃO - GCS PROMOÇÕES       21/11/2024   \n",
       "1  18.666.314/0001-93         LOCAÇÃO DE BISTROS - MAXIMA       04/11/2024   \n",
       "2  56.927.924/0001-92     MATERIAIS GRAFICOS - ALL CÓPIAS       26/11/2024   \n",
       "3  15.479.964/0001-31                   MIDIA - PUBLICKER       26/11/2024   \n",
       "4  56.869.092/0001-03      PUBLICAÇÃO DE ANUNCIO - DUVALE       26/11/2024   \n",
       "\n",
       "  Data de Término  ...        Saldo Cód. Centro custo previsão  \\\n",
       "0      01/06/2025  ...          NaN                    74020.0   \n",
       "1      04/02/2025  ...          NaN                    74020.0   \n",
       "2      26/04/2025  ...  R$ 4.455,00                    74020.0   \n",
       "3      26/02/2025  ...          NaN                    74020.0   \n",
       "4      26/01/2025  ...          NaN                    74020.0   \n",
       "\n",
       "      Centro custo previsão Cód. departamento previsão Departamento previsão  \\\n",
       "0  INCORPORAÇÃO - BLVD ALTI                        6.0             MARKETING   \n",
       "1  INCORPORAÇÃO - BLVD ALTI                        6.0             MARKETING   \n",
       "2  INCORPORAÇÃO - BLVD ALTI                        7.0             COMERCIAL   \n",
       "3  INCORPORAÇÃO - BLVD ALTI                        6.0             MARKETING   \n",
       "4  INCORPORAÇÃO - BLVD ALTI                        6.0             MARKETING   \n",
       "\n",
       "  Observação da previsão  Total em Aberto Total Sinal Cód. Centro custo sinal  \\\n",
       "0                    NaN              NaN         NaN                     NaN   \n",
       "1                    NaN              NaN         NaN                     NaN   \n",
       "2                    NaN      R$ 4.455,00         NaN                     NaN   \n",
       "3                    NaN              NaN         NaN                     NaN   \n",
       "4                    NaN              NaN         NaN                     NaN   \n",
       "\n",
       "  Centro custo sinal  \n",
       "0                NaN  \n",
       "1                NaN  \n",
       "2                NaN  \n",
       "3                NaN  \n",
       "4                NaN  \n",
       "\n",
       "[5 rows x 32 columns]"
      ]
     },
     "execution_count": 182,
     "metadata": {},
     "output_type": "execute_result"
    }
   ],
   "source": [
    "df.head()"
   ]
  },
  {
   "cell_type": "code",
   "execution_count": 183,
   "id": "c2f7c9e7-0ff4-413a-b00f-190dbde4c470",
   "metadata": {},
   "outputs": [
    {
     "data": {
      "text/plain": [
       "Contrato                                1\n",
       "Empresa                                 1\n",
       "Cód. Obra                               1\n",
       "Obra                                    1\n",
       "Cód. Fornecedor                         1\n",
       "Fornecedor*                             1\n",
       "CPF/CNPJ Fornecedor                     1\n",
       " Objeto do Contrato                     1\n",
       "Data do Contrato                        1\n",
       "Data de Término                         1\n",
       "Situação do Contrato                    1\n",
       "Data da alteração de situação         215\n",
       "Descrição da alteração de situação    215\n",
       "Responsável                             1\n",
       "Situação de Autorização                 1\n",
       "Autorizado por                          1\n",
       "Cód. Tipo do Contrato                   1\n",
       "Tipo do Contrato                        1\n",
       "Total Mão de Obra                     118\n",
       "Total Material                        343\n",
       "Total                                   6\n",
       "Total Medido                           35\n",
       "Saldo                                 289\n",
       "Cód. Centro custo previsão              9\n",
       "Centro custo previsão                   9\n",
       "Cód. departamento previsão              9\n",
       "Departamento previsão                   9\n",
       "Observação da previsão                465\n",
       "Total em Aberto                       289\n",
       "Total Sinal                           509\n",
       "Cód. Centro custo sinal               509\n",
       "Centro custo sinal                    509\n",
       "dtype: int64"
      ]
     },
     "execution_count": 183,
     "metadata": {},
     "output_type": "execute_result"
    }
   ],
   "source": [
    "df.isna().sum()"
   ]
  },
  {
   "cell_type": "code",
   "execution_count": 184,
   "id": "e5e3a68d-c620-4f75-be42-a7f0100fe237",
   "metadata": {},
   "outputs": [],
   "source": [
    "# As colunas dentro do DF estavam com má formatação em virtude disso adotamos os \"_\" entre os espaçãmentos\n",
    "df.columns = df.columns.str.replace(\" \", \"_\")\n"
   ]
  },
  {
   "cell_type": "code",
   "execution_count": 185,
   "id": "4403100d-a8f6-45b1-819e-7f295c2cce77",
   "metadata": {},
   "outputs": [
    {
     "data": {
      "text/plain": [
       "Index(['Contrato', 'Empresa', 'Cód._Obra', 'Obra', 'Cód._Fornecedor',\n",
       "       'Fornecedor*', 'CPF/CNPJ_Fornecedor', '_Objeto_do_Contrato',\n",
       "       'Data_do_Contrato', 'Data_de_Término', 'Situação_do_Contrato',\n",
       "       'Data_da_alteração_de_situação', 'Descrição_da_alteração_de_situação',\n",
       "       'Responsável', 'Situação_de_Autorização', 'Autorizado_por',\n",
       "       'Cód._Tipo_do_Contrato', 'Tipo_do_Contrato', 'Total_Mão_de_Obra',\n",
       "       'Total_Material', 'Total', 'Total_Medido', 'Saldo',\n",
       "       'Cód._Centro_custo_previsão', 'Centro_custo_previsão',\n",
       "       'Cód._departamento_previsão', 'Departamento_previsão',\n",
       "       'Observação_da_previsão', 'Total_em_Aberto', 'Total_Sinal',\n",
       "       'Cód._Centro_custo_sinal', 'Centro_custo_sinal'],\n",
       "      dtype='object')"
      ]
     },
     "execution_count": 185,
     "metadata": {},
     "output_type": "execute_result"
    }
   ],
   "source": [
    "df.columns"
   ]
  },
  {
   "cell_type": "markdown",
   "id": "7a007bbe-5e77-43ea-8547-f8857f2bb014",
   "metadata": {},
   "source": [
    "#### Como o percentual é maior que 30% poderiamos deletar a coluna porem a mesma pe importante."
   ]
  },
  {
   "cell_type": "markdown",
   "id": "51a81e67-2991-44d4-8c38-d95a29515dcb",
   "metadata": {},
   "source": [
    "## Tratando Coluna \"Centro_custo_sinal\""
   ]
  },
  {
   "cell_type": "code",
   "execution_count": 188,
   "id": "20d5ccfb-ff27-4915-9ab9-02b22f4871ee",
   "metadata": {},
   "outputs": [
    {
     "data": {
      "text/plain": [
       "509"
      ]
     },
     "execution_count": 188,
     "metadata": {},
     "output_type": "execute_result"
    }
   ],
   "source": [
    "df.Centro_custo_sinal.isnull().sum()"
   ]
  },
  {
   "cell_type": "code",
   "execution_count": 189,
   "id": "e02a7751-9660-409c-a445-e22b1fc26284",
   "metadata": {},
   "outputs": [
    {
     "data": {
      "text/plain": [
       "100.0"
      ]
     },
     "execution_count": 189,
     "metadata": {},
     "output_type": "execute_result"
    }
   ],
   "source": [
    "df.Centro_custo_sinal.isnull().mean()*100"
   ]
  },
  {
   "cell_type": "markdown",
   "id": "d2bc2396-e804-49f8-8081-cc44f4afe6f0",
   "metadata": {},
   "source": [
    "#### Encontrado 100% de valor ausente na coluna \"Centro_custo_sinal , _Centro_custo_sinal, Total_Sinal, Observação_da_previsão\" Por isso a mesma sera dropada"
   ]
  },
  {
   "cell_type": "code",
   "execution_count": 191,
   "id": "59b17f69-5a32-43a1-a0d1-314d281090bf",
   "metadata": {},
   "outputs": [
    {
     "name": "stdout",
     "output_type": "stream",
     "text": [
      "O dataset tem 21.82 % de valores ausentes.\n"
     ]
    }
   ],
   "source": [
    "func_calc_percentual_valores_ausentes(df)"
   ]
  },
  {
   "cell_type": "code",
   "execution_count": 192,
   "id": "53507762-cfe7-43a0-91fe-89af56f53b4f",
   "metadata": {},
   "outputs": [
    {
     "name": "stdout",
     "output_type": "stream",
     "text": [
      "O dataset tem 32 colunas.\n",
      "Encontrado: 32 colunas que têm valores ausentes.\n"
     ]
    },
    {
     "data": {
      "text/html": [
       "<div>\n",
       "<style scoped>\n",
       "    .dataframe tbody tr th:only-of-type {\n",
       "        vertical-align: middle;\n",
       "    }\n",
       "\n",
       "    .dataframe tbody tr th {\n",
       "        vertical-align: top;\n",
       "    }\n",
       "\n",
       "    .dataframe thead th {\n",
       "        text-align: right;\n",
       "    }\n",
       "</style>\n",
       "<table border=\"1\" class=\"dataframe\">\n",
       "  <thead>\n",
       "    <tr style=\"text-align: right;\">\n",
       "      <th></th>\n",
       "      <th>Valores Ausentes</th>\n",
       "      <th>% de Valores Ausentes</th>\n",
       "      <th>Dtype</th>\n",
       "    </tr>\n",
       "  </thead>\n",
       "  <tbody>\n",
       "    <tr>\n",
       "      <th>Centro_custo_sinal</th>\n",
       "      <td>509</td>\n",
       "      <td>100.00</td>\n",
       "      <td>float64</td>\n",
       "    </tr>\n",
       "    <tr>\n",
       "      <th>Cód._Centro_custo_sinal</th>\n",
       "      <td>509</td>\n",
       "      <td>100.00</td>\n",
       "      <td>float64</td>\n",
       "    </tr>\n",
       "    <tr>\n",
       "      <th>Total_Sinal</th>\n",
       "      <td>509</td>\n",
       "      <td>100.00</td>\n",
       "      <td>float64</td>\n",
       "    </tr>\n",
       "    <tr>\n",
       "      <th>Observação_da_previsão</th>\n",
       "      <td>465</td>\n",
       "      <td>91.36</td>\n",
       "      <td>object</td>\n",
       "    </tr>\n",
       "    <tr>\n",
       "      <th>Total_Material</th>\n",
       "      <td>343</td>\n",
       "      <td>67.39</td>\n",
       "      <td>object</td>\n",
       "    </tr>\n",
       "    <tr>\n",
       "      <th>Saldo</th>\n",
       "      <td>289</td>\n",
       "      <td>56.78</td>\n",
       "      <td>object</td>\n",
       "    </tr>\n",
       "    <tr>\n",
       "      <th>Total_em_Aberto</th>\n",
       "      <td>289</td>\n",
       "      <td>56.78</td>\n",
       "      <td>object</td>\n",
       "    </tr>\n",
       "    <tr>\n",
       "      <th>Descrição_da_alteração_de_situação</th>\n",
       "      <td>215</td>\n",
       "      <td>42.24</td>\n",
       "      <td>object</td>\n",
       "    </tr>\n",
       "    <tr>\n",
       "      <th>Data_da_alteração_de_situação</th>\n",
       "      <td>215</td>\n",
       "      <td>42.24</td>\n",
       "      <td>object</td>\n",
       "    </tr>\n",
       "    <tr>\n",
       "      <th>Total_Mão_de_Obra</th>\n",
       "      <td>118</td>\n",
       "      <td>23.18</td>\n",
       "      <td>object</td>\n",
       "    </tr>\n",
       "    <tr>\n",
       "      <th>Total_Medido</th>\n",
       "      <td>35</td>\n",
       "      <td>6.88</td>\n",
       "      <td>object</td>\n",
       "    </tr>\n",
       "    <tr>\n",
       "      <th>Cód._Centro_custo_previsão</th>\n",
       "      <td>9</td>\n",
       "      <td>1.77</td>\n",
       "      <td>float64</td>\n",
       "    </tr>\n",
       "    <tr>\n",
       "      <th>Cód._departamento_previsão</th>\n",
       "      <td>9</td>\n",
       "      <td>1.77</td>\n",
       "      <td>float64</td>\n",
       "    </tr>\n",
       "    <tr>\n",
       "      <th>Departamento_previsão</th>\n",
       "      <td>9</td>\n",
       "      <td>1.77</td>\n",
       "      <td>object</td>\n",
       "    </tr>\n",
       "    <tr>\n",
       "      <th>Centro_custo_previsão</th>\n",
       "      <td>9</td>\n",
       "      <td>1.77</td>\n",
       "      <td>object</td>\n",
       "    </tr>\n",
       "    <tr>\n",
       "      <th>Total</th>\n",
       "      <td>6</td>\n",
       "      <td>1.18</td>\n",
       "      <td>object</td>\n",
       "    </tr>\n",
       "    <tr>\n",
       "      <th>Tipo_do_Contrato</th>\n",
       "      <td>1</td>\n",
       "      <td>0.20</td>\n",
       "      <td>object</td>\n",
       "    </tr>\n",
       "    <tr>\n",
       "      <th>Contrato</th>\n",
       "      <td>1</td>\n",
       "      <td>0.20</td>\n",
       "      <td>object</td>\n",
       "    </tr>\n",
       "    <tr>\n",
       "      <th>Empresa</th>\n",
       "      <td>1</td>\n",
       "      <td>0.20</td>\n",
       "      <td>object</td>\n",
       "    </tr>\n",
       "    <tr>\n",
       "      <th>Autorizado_por</th>\n",
       "      <td>1</td>\n",
       "      <td>0.20</td>\n",
       "      <td>object</td>\n",
       "    </tr>\n",
       "    <tr>\n",
       "      <th>Situação_de_Autorização</th>\n",
       "      <td>1</td>\n",
       "      <td>0.20</td>\n",
       "      <td>object</td>\n",
       "    </tr>\n",
       "    <tr>\n",
       "      <th>Responsável</th>\n",
       "      <td>1</td>\n",
       "      <td>0.20</td>\n",
       "      <td>object</td>\n",
       "    </tr>\n",
       "    <tr>\n",
       "      <th>Situação_do_Contrato</th>\n",
       "      <td>1</td>\n",
       "      <td>0.20</td>\n",
       "      <td>object</td>\n",
       "    </tr>\n",
       "    <tr>\n",
       "      <th>Data_de_Término</th>\n",
       "      <td>1</td>\n",
       "      <td>0.20</td>\n",
       "      <td>object</td>\n",
       "    </tr>\n",
       "    <tr>\n",
       "      <th>Data_do_Contrato</th>\n",
       "      <td>1</td>\n",
       "      <td>0.20</td>\n",
       "      <td>object</td>\n",
       "    </tr>\n",
       "    <tr>\n",
       "      <th>_Objeto_do_Contrato</th>\n",
       "      <td>1</td>\n",
       "      <td>0.20</td>\n",
       "      <td>object</td>\n",
       "    </tr>\n",
       "    <tr>\n",
       "      <th>CPF/CNPJ_Fornecedor</th>\n",
       "      <td>1</td>\n",
       "      <td>0.20</td>\n",
       "      <td>object</td>\n",
       "    </tr>\n",
       "    <tr>\n",
       "      <th>Fornecedor*</th>\n",
       "      <td>1</td>\n",
       "      <td>0.20</td>\n",
       "      <td>object</td>\n",
       "    </tr>\n",
       "    <tr>\n",
       "      <th>Cód._Fornecedor</th>\n",
       "      <td>1</td>\n",
       "      <td>0.20</td>\n",
       "      <td>float64</td>\n",
       "    </tr>\n",
       "    <tr>\n",
       "      <th>Obra</th>\n",
       "      <td>1</td>\n",
       "      <td>0.20</td>\n",
       "      <td>object</td>\n",
       "    </tr>\n",
       "    <tr>\n",
       "      <th>Cód._Obra</th>\n",
       "      <td>1</td>\n",
       "      <td>0.20</td>\n",
       "      <td>float64</td>\n",
       "    </tr>\n",
       "    <tr>\n",
       "      <th>Cód._Tipo_do_Contrato</th>\n",
       "      <td>1</td>\n",
       "      <td>0.20</td>\n",
       "      <td>float64</td>\n",
       "    </tr>\n",
       "  </tbody>\n",
       "</table>\n",
       "</div>"
      ],
      "text/plain": [
       "                                    Valores Ausentes  % de Valores Ausentes  \\\n",
       "Centro_custo_sinal                               509                 100.00   \n",
       "Cód._Centro_custo_sinal                          509                 100.00   \n",
       "Total_Sinal                                      509                 100.00   \n",
       "Observação_da_previsão                           465                  91.36   \n",
       "Total_Material                                   343                  67.39   \n",
       "Saldo                                            289                  56.78   \n",
       "Total_em_Aberto                                  289                  56.78   \n",
       "Descrição_da_alteração_de_situação               215                  42.24   \n",
       "Data_da_alteração_de_situação                    215                  42.24   \n",
       "Total_Mão_de_Obra                                118                  23.18   \n",
       "Total_Medido                                      35                   6.88   \n",
       "Cód._Centro_custo_previsão                         9                   1.77   \n",
       "Cód._departamento_previsão                         9                   1.77   \n",
       "Departamento_previsão                              9                   1.77   \n",
       "Centro_custo_previsão                              9                   1.77   \n",
       "Total                                              6                   1.18   \n",
       "Tipo_do_Contrato                                   1                   0.20   \n",
       "Contrato                                           1                   0.20   \n",
       "Empresa                                            1                   0.20   \n",
       "Autorizado_por                                     1                   0.20   \n",
       "Situação_de_Autorização                            1                   0.20   \n",
       "Responsável                                        1                   0.20   \n",
       "Situação_do_Contrato                               1                   0.20   \n",
       "Data_de_Término                                    1                   0.20   \n",
       "Data_do_Contrato                                   1                   0.20   \n",
       "_Objeto_do_Contrato                                1                   0.20   \n",
       "CPF/CNPJ_Fornecedor                                1                   0.20   \n",
       "Fornecedor*                                        1                   0.20   \n",
       "Cód._Fornecedor                                    1                   0.20   \n",
       "Obra                                               1                   0.20   \n",
       "Cód._Obra                                          1                   0.20   \n",
       "Cód._Tipo_do_Contrato                              1                   0.20   \n",
       "\n",
       "                                      Dtype  \n",
       "Centro_custo_sinal                  float64  \n",
       "Cód._Centro_custo_sinal             float64  \n",
       "Total_Sinal                         float64  \n",
       "Observação_da_previsão               object  \n",
       "Total_Material                       object  \n",
       "Saldo                                object  \n",
       "Total_em_Aberto                      object  \n",
       "Descrição_da_alteração_de_situação   object  \n",
       "Data_da_alteração_de_situação        object  \n",
       "Total_Mão_de_Obra                    object  \n",
       "Total_Medido                         object  \n",
       "Cód._Centro_custo_previsão          float64  \n",
       "Cód._departamento_previsão          float64  \n",
       "Departamento_previsão                object  \n",
       "Centro_custo_previsão                object  \n",
       "Total                                object  \n",
       "Tipo_do_Contrato                     object  \n",
       "Contrato                             object  \n",
       "Empresa                              object  \n",
       "Autorizado_por                       object  \n",
       "Situação_de_Autorização              object  \n",
       "Responsável                          object  \n",
       "Situação_do_Contrato                 object  \n",
       "Data_de_Término                      object  \n",
       "Data_do_Contrato                     object  \n",
       "_Objeto_do_Contrato                  object  \n",
       "CPF/CNPJ_Fornecedor                  object  \n",
       "Fornecedor*                          object  \n",
       "Cód._Fornecedor                     float64  \n",
       "Obra                                 object  \n",
       "Cód._Obra                           float64  \n",
       "Cód._Tipo_do_Contrato               float64  "
      ]
     },
     "execution_count": 192,
     "metadata": {},
     "output_type": "execute_result"
    }
   ],
   "source": [
    "func_calc_percentual_valores_ausentes_coluna(df)"
   ]
  },
  {
   "cell_type": "code",
   "execution_count": 193,
   "id": "406ff6ce-c322-4e83-bb33-0432aeadf849",
   "metadata": {},
   "outputs": [],
   "source": [
    "df = df.drop(columns=['Cód._Centro_custo_sinal','Total_Sinal','Observação_da_previsão'])"
   ]
  },
  {
   "cell_type": "markdown",
   "id": "313427f4-5e39-456c-85e4-6bd2af1654bf",
   "metadata": {},
   "source": [
    "Total_Material"
   ]
  },
  {
   "cell_type": "code",
   "execution_count": 195,
   "id": "e26755dd-95ef-466e-bf88-a024e212a748",
   "metadata": {},
   "outputs": [
    {
     "data": {
      "text/plain": [
       "0             NaN\n",
       "1     R$ 3.849,01\n",
       "2             NaN\n",
       "3             NaN\n",
       "4             NaN\n",
       "5             NaN\n",
       "6             NaN\n",
       "7    R$ 48.070,00\n",
       "8     R$ 9.521,13\n",
       "9             NaN\n",
       "Name: Total_Material, dtype: object"
      ]
     },
     "execution_count": 195,
     "metadata": {},
     "output_type": "execute_result"
    }
   ],
   "source": [
    "df.Total_Material.head(10)"
   ]
  },
  {
   "cell_type": "code",
   "execution_count": 196,
   "id": "624a711d-dbc6-469c-817a-5a422ad0a194",
   "metadata": {},
   "outputs": [
    {
     "name": "stdout",
     "output_type": "stream",
     "text": [
      "343 valores ausentes na coluna Total_Material foram substituídos por 0.\n"
     ]
    },
    {
     "data": {
      "text/plain": [
       "0                     0\n",
       "1           R$ 3.849,01\n",
       "2                     0\n",
       "3                     0\n",
       "4                     0\n",
       "             ...       \n",
       "504                   0\n",
       "505                   0\n",
       "506                   0\n",
       "507                   0\n",
       "508    R$ 52.574.077,64\n",
       "Name: Total_Material, Length: 509, dtype: object"
      ]
     },
     "execution_count": 196,
     "metadata": {},
     "output_type": "execute_result"
    }
   ],
   "source": [
    "fix_missing_value(df, 'Total_Material' , 0) # Preechendo valores ausentes com 0"
   ]
  },
  {
   "cell_type": "code",
   "execution_count": 197,
   "id": "89f6e992-a53d-46f6-8c98-3896f9ed6744",
   "metadata": {},
   "outputs": [],
   "source": [
    "# Remover espaços invisíveis e caracteres especiais como 'R$'\n",
    "df['Total_Material'] = df['Total_Material'].astype(str).str.replace(r'[^\\d,.-]', '', regex=True)\n",
    "\n",
    "# Substituir ponto (separador de milhar) por nada e vírgula decimal por ponto\n",
    "df['Total_Material'] = df['Total_Material'].str.replace(r'\\.', ',', regex=True).str.replace(',', '.')\n",
    "\n",
    "# Converter para float e preencher valores ausentes com 0\n",
    "df['Total_Material'] = pd.to_numeric(df['Total_Material'], errors='coerce').fillna(0)"
   ]
  },
  {
   "cell_type": "code",
   "execution_count": 198,
   "id": "9b808948-70a8-4ab1-8a4c-3ea09d5c1478",
   "metadata": {},
   "outputs": [
    {
     "data": {
      "text/plain": [
       "0"
      ]
     },
     "execution_count": 198,
     "metadata": {},
     "output_type": "execute_result"
    }
   ],
   "source": [
    "df.Total_Material.isnull().sum()"
   ]
  },
  {
   "cell_type": "markdown",
   "id": "df2adba9-78b4-463e-a596-24b080a8482b",
   "metadata": {},
   "source": [
    "## Tratando Variavel Centro_custo_sinal"
   ]
  },
  {
   "cell_type": "code",
   "execution_count": 200,
   "id": "fe8937d5-ff8b-4328-bebf-06c8e32172e7",
   "metadata": {},
   "outputs": [
    {
     "data": {
      "text/plain": [
       "509"
      ]
     },
     "execution_count": 200,
     "metadata": {},
     "output_type": "execute_result"
    }
   ],
   "source": [
    "df.Centro_custo_sinal.isnull().sum() # Count values "
   ]
  },
  {
   "cell_type": "code",
   "execution_count": 201,
   "id": "236dfcc7-c7a1-4afe-acb9-36ff0a492fde",
   "metadata": {},
   "outputs": [
    {
     "data": {
      "text/plain": [
       "100.0"
      ]
     },
     "execution_count": 201,
     "metadata": {},
     "output_type": "execute_result"
    }
   ],
   "source": [
    "df.Centro_custo_sinal.isnull().mean()*100"
   ]
  },
  {
   "cell_type": "markdown",
   "id": "c93e0b0f-a7c4-4abe-a608-881c1076b7ea",
   "metadata": {},
   "source": [
    "> ### Pela varivel \"Centro_custo_sinal\" ter 100% de valores ausentes optamos por deletar a mesma do DF !"
   ]
  },
  {
   "cell_type": "code",
   "execution_count": 203,
   "id": "9dc91235-e02a-4563-b611-f4388fb9820c",
   "metadata": {},
   "outputs": [],
   "source": [
    "df = df.drop(columns=['Centro_custo_sinal'])"
   ]
  },
  {
   "cell_type": "markdown",
   "id": "be5d3bec-5f2d-46bb-a9b4-b908b81daa6f",
   "metadata": {},
   "source": [
    "### Tratando Variavel \"Total_em_Aberto\" "
   ]
  },
  {
   "cell_type": "code",
   "execution_count": 205,
   "id": "2bbca7aa-7efa-472d-a6e1-a5cba9bc49f5",
   "metadata": {},
   "outputs": [
    {
     "data": {
      "text/plain": [
       "289"
      ]
     },
     "execution_count": 205,
     "metadata": {},
     "output_type": "execute_result"
    }
   ],
   "source": [
    "df.Total_em_Aberto.isnull().sum()"
   ]
  },
  {
   "cell_type": "code",
   "execution_count": 206,
   "id": "5e44d4b0-4e55-4189-b484-e88a7903ca57",
   "metadata": {},
   "outputs": [
    {
     "data": {
      "text/plain": [
       "56.777996070726914"
      ]
     },
     "execution_count": 206,
     "metadata": {},
     "output_type": "execute_result"
    }
   ],
   "source": [
    "df.Total_em_Aberto.isnull().mean()*100"
   ]
  },
  {
   "cell_type": "markdown",
   "id": "3f086c79-3022-4f03-8e96-5acd928e2410",
   "metadata": {},
   "source": [
    "A variavel \"Total_em_Aberto\" tem mais que 56% dos valores ausentes em sua construção porem a mesma não pode ser deletada! "
   ]
  },
  {
   "cell_type": "code",
   "execution_count": 208,
   "id": "9efda774-dc49-4e47-8fbb-584209b2f378",
   "metadata": {},
   "outputs": [],
   "source": [
    "# Definição da função\n",
    "def formatar_valor_brasileiro(coluna):\n",
    "    \"\"\"\n",
    "    Remove o símbolo 'R$', formata o número no padrão brasileiro\n",
    "    e converte para float64.\n",
    "    \"\"\"\n",
    "    return (\n",
    "        coluna.astype(str)  \n",
    "        .str.replace(r'[^\\d,]', '', regex=True)  # Remove tudo que não for número ou vírgula\n",
    "        .str.replace(',', '.')  # Substitui vírgula decimal por ponto\n",
    "        .astype(float)  # Converte para float64\n",
    "    )\n",
    "\n",
    "# Aplicação no DataFrame (verifique se a coluna está correta!)\n",
    "df['Total_Material'] = formatar_valor_brasileiro(df['Total_Material'])"
   ]
  },
  {
   "cell_type": "code",
   "execution_count": 209,
   "id": "e4501cf3-ce09-4608-bf10-00746a299797",
   "metadata": {},
   "outputs": [
    {
     "data": {
      "text/plain": [
       "0"
      ]
     },
     "execution_count": 209,
     "metadata": {},
     "output_type": "execute_result"
    }
   ],
   "source": [
    "df.Total_Material.isnull().sum() # Count values missing"
   ]
  },
  {
   "cell_type": "code",
   "execution_count": 210,
   "id": "fb24495a-9c98-44dc-929a-5babccd37d86",
   "metadata": {},
   "outputs": [
    {
     "data": {
      "text/plain": [
       "dtype('float64')"
      ]
     },
     "execution_count": 210,
     "metadata": {},
     "output_type": "execute_result"
    }
   ],
   "source": [
    "df.Total_Material.dtype # Convertido de Str para Float "
   ]
  },
  {
   "cell_type": "markdown",
   "id": "fa744dab-4487-4fdb-84d3-a731587ff7a6",
   "metadata": {},
   "source": [
    "## Tratando \"Variavel Saldo\""
   ]
  },
  {
   "cell_type": "code",
   "execution_count": 212,
   "id": "938dd6d5-23a1-42dc-87b0-5bb635266fdc",
   "metadata": {},
   "outputs": [
    {
     "data": {
      "text/plain": [
       "289"
      ]
     },
     "execution_count": 212,
     "metadata": {},
     "output_type": "execute_result"
    }
   ],
   "source": [
    "df.Saldo.isnull().sum()"
   ]
  },
  {
   "cell_type": "code",
   "execution_count": 213,
   "id": "24c94444-56a3-424c-a78f-01c92e41a307",
   "metadata": {},
   "outputs": [
    {
     "data": {
      "text/plain": [
       "dtype('O')"
      ]
     },
     "execution_count": 213,
     "metadata": {},
     "output_type": "execute_result"
    }
   ],
   "source": [
    "df.Saldo.dtype"
   ]
  },
  {
   "cell_type": "code",
   "execution_count": 214,
   "id": "df49f06e-0407-441f-a032-c981cb016ffa",
   "metadata": {},
   "outputs": [],
   "source": [
    "def limpar_e_converter(coluna):\n",
    "    \"\"\"\n",
    "    Remove símbolos monetários, espaços invisíveis, substitui vírgula por ponto e converte para float.\n",
    "    Ignora valores vazios.\n",
    "    \"\"\"\n",
    "    return (\n",
    "        coluna.astype(str)\n",
    "        .str.replace(r'[^\\d,]', '', regex=True)  # Remove tudo que não for número ou vírgula\n",
    "        .str.replace(',', '.', regex=False)  # Substitui vírgula decimal por ponto\n",
    "        .replace('', np.nan)  # Substitui strings vazias por NaN\n",
    "        .astype(float)  # Converte para float\n",
    "    )\n",
    "\n",
    "# Aplicação da função na coluna 'Saldo'\n",
    "df['Saldo'] = limpar_e_converter(df['Saldo'])"
   ]
  },
  {
   "cell_type": "code",
   "execution_count": 215,
   "id": "0ceecaf6-bb56-4a8c-bfa3-499f3f50cfd7",
   "metadata": {},
   "outputs": [
    {
     "name": "stdout",
     "output_type": "stream",
     "text": [
      "289 valores ausentes na coluna Saldo foram substituídos por 0.\n"
     ]
    },
    {
     "data": {
      "text/plain": [
       "0             0.00\n",
       "1             0.00\n",
       "2          4455.00\n",
       "3             0.00\n",
       "4             0.00\n",
       "          ...     \n",
       "504       10000.00\n",
       "505           0.00\n",
       "506           0.00\n",
       "507           0.00\n",
       "508    44328514.05\n",
       "Name: Saldo, Length: 509, dtype: float64"
      ]
     },
     "execution_count": 215,
     "metadata": {},
     "output_type": "execute_result"
    }
   ],
   "source": [
    "fix_missing_value(df, 'Saldo' , 0) # Preechendo valores ausentes com 0"
   ]
  },
  {
   "cell_type": "code",
   "execution_count": 216,
   "id": "5cdfdd03-e5d7-4019-b52e-cae8b276faf8",
   "metadata": {},
   "outputs": [],
   "source": [
    "df['Saldo'] = df['Saldo'].map(lambda x: f\"{x:,.2f}\".replace('.', ','))"
   ]
  },
  {
   "cell_type": "code",
   "execution_count": 217,
   "id": "fe736212-6849-47ac-89d6-7fee48230939",
   "metadata": {},
   "outputs": [
    {
     "data": {
      "text/plain": [
       "0        0,00\n",
       "1        0,00\n",
       "2    4,455,00\n",
       "3        0,00\n",
       "4        0,00\n",
       "Name: Saldo, dtype: object"
      ]
     },
     "execution_count": 217,
     "metadata": {},
     "output_type": "execute_result"
    }
   ],
   "source": [
    "df.Saldo.head()"
   ]
  },
  {
   "cell_type": "markdown",
   "id": "573dc50e-8646-4639-9add-8bf3b3e46647",
   "metadata": {},
   "source": [
    "### Tratando Valores ausentes em Total_em_Aberto"
   ]
  },
  {
   "cell_type": "code",
   "execution_count": 219,
   "id": "0b105860-cba7-41e9-b791-d972c3f08bb2",
   "metadata": {},
   "outputs": [
    {
     "data": {
      "text/plain": [
       "289"
      ]
     },
     "execution_count": 219,
     "metadata": {},
     "output_type": "execute_result"
    }
   ],
   "source": [
    "df.Total_em_Aberto.isnull().sum()"
   ]
  },
  {
   "cell_type": "code",
   "execution_count": 220,
   "id": "eb0864ba-f6dc-4b6c-842f-b01759bcc282",
   "metadata": {},
   "outputs": [
    {
     "data": {
      "text/plain": [
       "56.777996070726914"
      ]
     },
     "execution_count": 220,
     "metadata": {},
     "output_type": "execute_result"
    }
   ],
   "source": [
    "df.Total_em_Aberto.isnull().mean()*100"
   ]
  },
  {
   "cell_type": "markdown",
   "id": "8394d132-4a80-409d-bdd8-c44ac4a298d8",
   "metadata": {},
   "source": [
    "### A variavel Total_em_Aberto tem mais que 30% de valores ausentes porem a mesma é importate para os dados do cliente! "
   ]
  },
  {
   "cell_type": "code",
   "execution_count": 222,
   "id": "53f32ac8-5370-4d8a-a352-bcc21e7b2ef7",
   "metadata": {},
   "outputs": [],
   "source": [
    "def limpar_e_converter(coluna):\n",
    "    \"\"\"\n",
    "    Remove símbolos monetários, espaços invisíveis, substitui vírgula por ponto e converte para float.\n",
    "    Ignora valores vazios.\n",
    "    \"\"\"\n",
    "    return (\n",
    "        coluna.astype(str)\n",
    "        .str.replace(r'[^\\d,]', '', regex=True)  # Remove tudo que não for número ou vírgula\n",
    "        .str.replace(',', '.', regex=False)  # Substitui vírgula decimal por ponto\n",
    "        .replace('', np.nan)  # Substitui strings vazias por NaN\n",
    "        .astype(float)  # Converte para float\n",
    "    )\n",
    "\n",
    "# Aplicação da função na coluna 'Saldo'\n",
    "df['Total_em_Aberto'] = limpar_e_converter(df['Total_em_Aberto'])"
   ]
  },
  {
   "cell_type": "code",
   "execution_count": 223,
   "id": "ddb1b2aa-a579-4cb9-b366-f644affe7b45",
   "metadata": {},
   "outputs": [],
   "source": [
    "df['Total_em_Aberto'] = df['Total_em_Aberto'].map(lambda x: f\"{x:,.2f}\".replace('.', ','))"
   ]
  },
  {
   "cell_type": "code",
   "execution_count": 224,
   "id": "40cd43b4-a835-4ae3-8161-667d815094d1",
   "metadata": {},
   "outputs": [
    {
     "data": {
      "text/plain": [
       "0"
      ]
     },
     "execution_count": 224,
     "metadata": {},
     "output_type": "execute_result"
    }
   ],
   "source": [
    "df.Total_em_Aberto.isnull().sum()"
   ]
  },
  {
   "cell_type": "markdown",
   "id": "282064e2-f152-42c3-b514-988c06b35393",
   "metadata": {},
   "source": [
    "## Vtratando Varivel \"Descrição_da_alteração_de_situação\" "
   ]
  },
  {
   "cell_type": "code",
   "execution_count": 226,
   "id": "0b135e3b-d4a0-4568-997d-09120743b9aa",
   "metadata": {},
   "outputs": [
    {
     "data": {
      "text/plain": [
       "215"
      ]
     },
     "execution_count": 226,
     "metadata": {},
     "output_type": "execute_result"
    }
   ],
   "source": [
    "df.Descrição_da_alteração_de_situação.isnull().sum()"
   ]
  },
  {
   "cell_type": "code",
   "execution_count": 227,
   "id": "706b6030-8afc-4bf3-bc4f-79b95ec02f69",
   "metadata": {},
   "outputs": [
    {
     "data": {
      "text/plain": [
       "dtype('O')"
      ]
     },
     "execution_count": 227,
     "metadata": {},
     "output_type": "execute_result"
    }
   ],
   "source": [
    "df.Descrição_da_alteração_de_situação.dtype"
   ]
  },
  {
   "cell_type": "code",
   "execution_count": 228,
   "id": "98e51030-5ed9-4b26-b80a-e20458563ba9",
   "metadata": {},
   "outputs": [
    {
     "data": {
      "text/plain": [
       "0    Situação alterada através de liberação de medi...\n",
       "1    Situação alterada através de liberação de medi...\n",
       "2                                                  NaN\n",
       "3                                                  NaN\n",
       "4    Situação alterada através de liberação de medi...\n",
       "5    Situação alterada através de liberação de medi...\n",
       "6    Situação alterada através de liberação de medi...\n",
       "7                                                  NaN\n",
       "8    Situação alterada através de liberação de medi...\n",
       "9    Situação alterada através de liberação de medi...\n",
       "Name: Descrição_da_alteração_de_situação, dtype: object"
      ]
     },
     "execution_count": 228,
     "metadata": {},
     "output_type": "execute_result"
    }
   ],
   "source": [
    "df.Descrição_da_alteração_de_situação.head(10)"
   ]
  },
  {
   "cell_type": "code",
   "execution_count": 229,
   "id": "313dd7f9-8eed-4134-990b-e2405465382d",
   "metadata": {},
   "outputs": [],
   "source": [
    "convert_to_string(df, ['Descrição_da_alteração_de_situação'])"
   ]
  },
  {
   "cell_type": "code",
   "execution_count": 230,
   "id": "d201c8d0-29ca-44eb-8c68-473c05c6d235",
   "metadata": {},
   "outputs": [
    {
     "data": {
      "text/plain": [
       "42.23968565815324"
      ]
     },
     "execution_count": 230,
     "metadata": {},
     "output_type": "execute_result"
    }
   ],
   "source": [
    "df.Descrição_da_alteração_de_situação.isnull().mean()*100"
   ]
  },
  {
   "cell_type": "markdown",
   "id": "843356c4-b475-4842-9d18-a3fe43eda572",
   "metadata": {},
   "source": [
    "### A variavel Descrição_da_alteração_de_situação conta com mais de 46% de valores ausentes por esse motivo a mesma poderia ser removida porem os dados sao importantes! "
   ]
  },
  {
   "cell_type": "code",
   "execution_count": 232,
   "id": "bfde100a-6525-4e98-bf1d-0d8773dc2419",
   "metadata": {},
   "outputs": [
    {
     "data": {
      "text/plain": [
       "(509,)"
      ]
     },
     "execution_count": 232,
     "metadata": {},
     "output_type": "execute_result"
    }
   ],
   "source": [
    "df.Descrição_da_alteração_de_situação.shape"
   ]
  },
  {
   "cell_type": "code",
   "execution_count": 233,
   "id": "af4a7f23-7644-41ac-b0dc-e9a6e89759c3",
   "metadata": {},
   "outputs": [],
   "source": [
    "df.dropna(subset=['Descrição_da_alteração_de_situação'], inplace=True)\n"
   ]
  },
  {
   "cell_type": "code",
   "execution_count": 234,
   "id": "d199bac7-196d-419c-a3ae-da5754dec972",
   "metadata": {},
   "outputs": [
    {
     "data": {
      "text/plain": [
       "0"
      ]
     },
     "execution_count": 234,
     "metadata": {},
     "output_type": "execute_result"
    }
   ],
   "source": [
    "df.Descrição_da_alteração_de_situação.isnull().sum()"
   ]
  },
  {
   "cell_type": "code",
   "execution_count": 235,
   "id": "1e90749e-9402-416f-b13b-e9af809c9aa4",
   "metadata": {},
   "outputs": [
    {
     "data": {
      "text/plain": [
       "0    Situação alterada através de liberação de medi...\n",
       "1    Situação alterada através de liberação de medi...\n",
       "4    Situação alterada através de liberação de medi...\n",
       "5    Situação alterada através de liberação de medi...\n",
       "6    Situação alterada através de liberação de medi...\n",
       "Name: Descrição_da_alteração_de_situação, dtype: string"
      ]
     },
     "execution_count": 235,
     "metadata": {},
     "output_type": "execute_result"
    }
   ],
   "source": [
    "df.Descrição_da_alteração_de_situação.head()"
   ]
  },
  {
   "cell_type": "markdown",
   "id": "f3b9deaa-8bc2-47b9-80a5-cc5db962c02a",
   "metadata": {},
   "source": [
    "### Verificando Variaveis Ausentes do DF"
   ]
  },
  {
   "cell_type": "code",
   "execution_count": 237,
   "id": "0b970110-36ae-4b40-aa1e-3f169b4e194d",
   "metadata": {},
   "outputs": [
    {
     "name": "stdout",
     "output_type": "stream",
     "text": [
      "O dataset tem 28 colunas.\n",
      "Encontrado: 7 colunas que têm valores ausentes.\n"
     ]
    },
    {
     "data": {
      "text/html": [
       "<div>\n",
       "<style scoped>\n",
       "    .dataframe tbody tr th:only-of-type {\n",
       "        vertical-align: middle;\n",
       "    }\n",
       "\n",
       "    .dataframe tbody tr th {\n",
       "        vertical-align: top;\n",
       "    }\n",
       "\n",
       "    .dataframe thead th {\n",
       "        text-align: right;\n",
       "    }\n",
       "</style>\n",
       "<table border=\"1\" class=\"dataframe\">\n",
       "  <thead>\n",
       "    <tr style=\"text-align: right;\">\n",
       "      <th></th>\n",
       "      <th>Valores Ausentes</th>\n",
       "      <th>% de Valores Ausentes</th>\n",
       "      <th>Dtype</th>\n",
       "    </tr>\n",
       "  </thead>\n",
       "  <tbody>\n",
       "    <tr>\n",
       "      <th>Total_Mão_de_Obra</th>\n",
       "      <td>46</td>\n",
       "      <td>15.65</td>\n",
       "      <td>object</td>\n",
       "    </tr>\n",
       "    <tr>\n",
       "      <th>Total_Medido</th>\n",
       "      <td>13</td>\n",
       "      <td>4.42</td>\n",
       "      <td>object</td>\n",
       "    </tr>\n",
       "    <tr>\n",
       "      <th>Total</th>\n",
       "      <td>5</td>\n",
       "      <td>1.70</td>\n",
       "      <td>object</td>\n",
       "    </tr>\n",
       "    <tr>\n",
       "      <th>Cód._Centro_custo_previsão</th>\n",
       "      <td>5</td>\n",
       "      <td>1.70</td>\n",
       "      <td>float64</td>\n",
       "    </tr>\n",
       "    <tr>\n",
       "      <th>Centro_custo_previsão</th>\n",
       "      <td>5</td>\n",
       "      <td>1.70</td>\n",
       "      <td>object</td>\n",
       "    </tr>\n",
       "    <tr>\n",
       "      <th>Cód._departamento_previsão</th>\n",
       "      <td>5</td>\n",
       "      <td>1.70</td>\n",
       "      <td>float64</td>\n",
       "    </tr>\n",
       "    <tr>\n",
       "      <th>Departamento_previsão</th>\n",
       "      <td>5</td>\n",
       "      <td>1.70</td>\n",
       "      <td>object</td>\n",
       "    </tr>\n",
       "  </tbody>\n",
       "</table>\n",
       "</div>"
      ],
      "text/plain": [
       "                            Valores Ausentes  % de Valores Ausentes    Dtype\n",
       "Total_Mão_de_Obra                         46                  15.65   object\n",
       "Total_Medido                              13                   4.42   object\n",
       "Total                                      5                   1.70   object\n",
       "Cód._Centro_custo_previsão                 5                   1.70  float64\n",
       "Centro_custo_previsão                      5                   1.70   object\n",
       "Cód._departamento_previsão                 5                   1.70  float64\n",
       "Departamento_previsão                      5                   1.70   object"
      ]
     },
     "execution_count": 237,
     "metadata": {},
     "output_type": "execute_result"
    }
   ],
   "source": [
    "func_calc_percentual_valores_ausentes_coluna(df)"
   ]
  },
  {
   "cell_type": "markdown",
   "id": "af17082b-3152-4742-89b9-78e48b9cb7d8",
   "metadata": {},
   "source": [
    "### Tratando Variavel *\"Total_Mão_de_Obra\"* "
   ]
  },
  {
   "cell_type": "code",
   "execution_count": 239,
   "id": "ec83c57a-b061-4d33-ae9d-a92dbc47d5a7",
   "metadata": {},
   "outputs": [
    {
     "data": {
      "text/plain": [
       "46"
      ]
     },
     "execution_count": 239,
     "metadata": {},
     "output_type": "execute_result"
    }
   ],
   "source": [
    "df.Total_Mão_de_Obra.isna().sum()"
   ]
  },
  {
   "cell_type": "code",
   "execution_count": 240,
   "id": "ae26c79f-1097-4ddc-b435-6bb8d138f223",
   "metadata": {},
   "outputs": [
    {
     "data": {
      "text/plain": [
       "(294,)"
      ]
     },
     "execution_count": 240,
     "metadata": {},
     "output_type": "execute_result"
    }
   ],
   "source": [
    "df.Total_Mão_de_Obra.shape"
   ]
  },
  {
   "cell_type": "code",
   "execution_count": 241,
   "id": "8f064057-1d9c-44a9-b926-40640001cabe",
   "metadata": {},
   "outputs": [
    {
     "data": {
      "text/plain": [
       "15.646258503401361"
      ]
     },
     "execution_count": 241,
     "metadata": {},
     "output_type": "execute_result"
    }
   ],
   "source": [
    "df.Total_Mão_de_Obra.isnull().mean()*100"
   ]
  },
  {
   "cell_type": "markdown",
   "id": "319ae40d-3498-4781-a0ef-567a6cd9d9f3",
   "metadata": {},
   "source": [
    "### Essa variavel de Total_Mão_de_Obra tem 15% de valores ausentes vamos tratar a mesma\n"
   ]
  },
  {
   "cell_type": "code",
   "execution_count": 243,
   "id": "e60924c3-b87b-4087-a1c1-cb4188c2a965",
   "metadata": {},
   "outputs": [
    {
     "data": {
      "text/plain": [
       "0     R$ 31.920,00\n",
       "1              NaN\n",
       "4      R$ 8.990,00\n",
       "5    R$ 333.700,00\n",
       "6        R$ 705,79\n",
       "Name: Total_Mão_de_Obra, dtype: object"
      ]
     },
     "execution_count": 243,
     "metadata": {},
     "output_type": "execute_result"
    }
   ],
   "source": [
    "df.Total_Mão_de_Obra.head()"
   ]
  },
  {
   "cell_type": "code",
   "execution_count": 244,
   "id": "188d0837-d8b3-413e-a173-6d3693ea1fed",
   "metadata": {},
   "outputs": [],
   "source": [
    "df.dropna(subset=['Total_Mão_de_Obra'], inplace=True) #deletando linhas com valores ausentes da variavel! "
   ]
  },
  {
   "cell_type": "code",
   "execution_count": 245,
   "id": "99bfc3d2-5111-48e5-a5b9-2785338d069b",
   "metadata": {},
   "outputs": [
    {
     "data": {
      "text/plain": [
       "0"
      ]
     },
     "execution_count": 245,
     "metadata": {},
     "output_type": "execute_result"
    }
   ],
   "source": [
    "df.Total_Mão_de_Obra.isna().sum()"
   ]
  },
  {
   "cell_type": "code",
   "execution_count": 246,
   "id": "3af3dc7b-a5f8-456d-b9a3-8e7e59de0575",
   "metadata": {},
   "outputs": [],
   "source": [
    "df['Total_Mão_de_Obra'] = (\n",
    "    df['Total_Mão_de_Obra']\n",
    "    .astype(str)  # Garante que os valores são strings antes da substituição\n",
    "    .str.replace('R$', '', regex=True)  # Remove o símbolo \"R$\"\n",
    "    .str.replace('.', '', regex=True)  # Remove os pontos (separadores de milhar)\n",
    "    .str.replace(',', '.', regex=True)  # Substitui a vírgula decimal por ponto\n",
    "    .str.strip()  # Remove espaços extras\n",
    "    .replace('', '0')  # Substitui valores vazios por \"0\" (ou pode usar NaN)\n",
    "    .astype(float)  # Converte para float\n",
    ")"
   ]
  },
  {
   "cell_type": "code",
   "execution_count": 247,
   "id": "0d058197-f06c-4e9b-a570-082407029233",
   "metadata": {},
   "outputs": [
    {
     "data": {
      "text/plain": [
       "0"
      ]
     },
     "execution_count": 247,
     "metadata": {},
     "output_type": "execute_result"
    }
   ],
   "source": [
    "df.Total_Mão_de_Obra.isna().sum()"
   ]
  },
  {
   "cell_type": "code",
   "execution_count": 248,
   "id": "831eb6d2-b481-42e2-ab9a-7e55d2b98724",
   "metadata": {},
   "outputs": [
    {
     "name": "stdout",
     "output_type": "stream",
     "text": [
      "O dataset tem 28 colunas.\n",
      "Encontrado: 1 colunas que têm valores ausentes.\n"
     ]
    },
    {
     "data": {
      "text/html": [
       "<div>\n",
       "<style scoped>\n",
       "    .dataframe tbody tr th:only-of-type {\n",
       "        vertical-align: middle;\n",
       "    }\n",
       "\n",
       "    .dataframe tbody tr th {\n",
       "        vertical-align: top;\n",
       "    }\n",
       "\n",
       "    .dataframe thead th {\n",
       "        text-align: right;\n",
       "    }\n",
       "</style>\n",
       "<table border=\"1\" class=\"dataframe\">\n",
       "  <thead>\n",
       "    <tr style=\"text-align: right;\">\n",
       "      <th></th>\n",
       "      <th>Valores Ausentes</th>\n",
       "      <th>% de Valores Ausentes</th>\n",
       "      <th>Dtype</th>\n",
       "    </tr>\n",
       "  </thead>\n",
       "  <tbody>\n",
       "    <tr>\n",
       "      <th>Total_Medido</th>\n",
       "      <td>6</td>\n",
       "      <td>2.42</td>\n",
       "      <td>object</td>\n",
       "    </tr>\n",
       "  </tbody>\n",
       "</table>\n",
       "</div>"
      ],
      "text/plain": [
       "              Valores Ausentes  % de Valores Ausentes   Dtype\n",
       "Total_Medido                 6                   2.42  object"
      ]
     },
     "execution_count": 248,
     "metadata": {},
     "output_type": "execute_result"
    }
   ],
   "source": [
    "func_calc_percentual_valores_ausentes_coluna(df)"
   ]
  },
  {
   "cell_type": "markdown",
   "id": "9ef85c42-a904-4150-9c74-f8e494534064",
   "metadata": {},
   "source": [
    "### Tratando Variavel *\"Total_Medido\"* "
   ]
  },
  {
   "cell_type": "code",
   "execution_count": 250,
   "id": "45d64692-c406-41c0-9a5e-1e4854854caf",
   "metadata": {},
   "outputs": [
    {
     "data": {
      "text/plain": [
       "0        R$ 31.920,00\n",
       "4         R$ 8.990,00\n",
       "5       R$ 333.700,00\n",
       "6           R$ 705,79\n",
       "9         R$ 4.500,00\n",
       "10        R$ 2.200,00\n",
       "11        R$ 7.354,00\n",
       "15       R$ 19.870,00\n",
       "16        R$ 2.642,72\n",
       "19      R$ 122.869,99\n",
       "20        R$ 7.467,60\n",
       "21        R$ 8.837,00\n",
       "24          R$ 400,00\n",
       "27        R$ 4.200,00\n",
       "28        R$ 3.190,00\n",
       "29       R$ 12.000,00\n",
       "30       R$ 41.400,00\n",
       "31       R$ 13.255,00\n",
       "36        R$ 7.500,00\n",
       "37        R$ 2.800,00\n",
       "38        R$ 8.300,00\n",
       "39       R$ 21.521,26\n",
       "40      R$ 114.631,03\n",
       "41       R$ 32.700,00\n",
       "42        R$ 2.204,00\n",
       "43        R$ 6.850,00\n",
       "44        R$ 1.840,00\n",
       "45      R$ 113.768,00\n",
       "46       R$ 27.174,16\n",
       "48        R$ 8.617,00\n",
       "50      R$ 460.720,00\n",
       "51       R$ 54.500,00\n",
       "52       R$ 23.072,00\n",
       "54       R$ 39.180,90\n",
       "58        R$ 4.202,60\n",
       "62        R$ 1.500,00\n",
       "63    R$ 1.158.936,40\n",
       "66       R$ 77.666,95\n",
       "67        R$ 1.314,60\n",
       "68        R$ 7.700,00\n",
       "69        R$ 5.000,00\n",
       "70      R$ 369.500,00\n",
       "71        R$ 2.500,00\n",
       "72        R$ 5.000,00\n",
       "75       R$ 92.000,00\n",
       "76                NaN\n",
       "77        R$ 1.280,00\n",
       "79      R$ 353.200,00\n",
       "80          R$ 250,00\n",
       "81        R$ 9.196,00\n",
       "Name: Total_Medido, dtype: object"
      ]
     },
     "execution_count": 250,
     "metadata": {},
     "output_type": "execute_result"
    }
   ],
   "source": [
    "df.Total_Medido.head(50)"
   ]
  },
  {
   "cell_type": "code",
   "execution_count": 251,
   "id": "aca64508-6365-4cf3-b293-f9d5c3911c62",
   "metadata": {},
   "outputs": [
    {
     "data": {
      "text/plain": [
       "6"
      ]
     },
     "execution_count": 251,
     "metadata": {},
     "output_type": "execute_result"
    }
   ],
   "source": [
    "df.Total_Medido.isnull().sum()\n"
   ]
  },
  {
   "cell_type": "code",
   "execution_count": 252,
   "id": "3d0ce256-0c3a-41f1-a4f7-6f2859d0d338",
   "metadata": {},
   "outputs": [
    {
     "data": {
      "text/plain": [
       "2.4193548387096775"
      ]
     },
     "execution_count": 252,
     "metadata": {},
     "output_type": "execute_result"
    }
   ],
   "source": [
    "df.Total_Medido.isnull().mean()*100"
   ]
  },
  {
   "cell_type": "markdown",
   "id": "abbe1d91-15d4-4dcd-9a31-0c6a10ea9585",
   "metadata": {},
   "source": [
    "Devido a porcentagem de valores ausentes serem menores que 2% Não iremos remover esses valores ausentes da mesma \n",
    "\n"
   ]
  },
  {
   "cell_type": "code",
   "execution_count": 254,
   "id": "d1466a1c-15ea-44af-95c3-552bc2e4329d",
   "metadata": {},
   "outputs": [
    {
     "data": {
      "text/plain": [
       "dtype('O')"
      ]
     },
     "execution_count": 254,
     "metadata": {},
     "output_type": "execute_result"
    }
   ],
   "source": [
    "df.Total_Medido.dtype"
   ]
  },
  {
   "cell_type": "code",
   "execution_count": 255,
   "id": "1e6ab86c-67b1-461d-bd17-e7a63071dfae",
   "metadata": {},
   "outputs": [],
   "source": [
    "df['Total_Medido'] = df['Total_Medido'].fillna(0)\n"
   ]
  },
  {
   "cell_type": "code",
   "execution_count": null,
   "id": "4b3fab75-3fff-46a0-ba57-f237fae156f6",
   "metadata": {},
   "outputs": [],
   "source": []
  },
  {
   "cell_type": "code",
   "execution_count": null,
   "id": "ffdbb421-0b65-406f-a0db-7eafd50d2abc",
   "metadata": {},
   "outputs": [],
   "source": []
  }
 ],
 "metadata": {
  "kernelspec": {
   "display_name": "Python [conda env:meu_ambiente]",
   "language": "python",
   "name": "conda-env-meu_ambiente-py"
  },
  "language_info": {
   "codemirror_mode": {
    "name": "ipython",
    "version": 3
   },
   "file_extension": ".py",
   "mimetype": "text/x-python",
   "name": "python",
   "nbconvert_exporter": "python",
   "pygments_lexer": "ipython3",
   "version": "3.8.20"
  }
 },
 "nbformat": 4,
 "nbformat_minor": 5
}
