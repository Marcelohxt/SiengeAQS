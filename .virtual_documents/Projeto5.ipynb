











# Versão da Linguagem Python
from platform import python_version
print('Versão da Linguagem Python Usada Neste Jupyter Notebook:', python_version())


# Para atualizar um pacote, execute o comando abaixo no terminal ou prompt de comando:
# pip install -U nome_pacote

# Para instalar a versão exata de um pacote, execute o comando abaixo no terminal ou prompt de comando:
# !pip install nome_pacote==versão_desejada

# Depois de instalar ou atualizar o pacote, reinicie o jupyter notebook.

# Instala o pacote watermark. 
# Esse pacote é usado para gravar as versões de outros pacotes usados neste jupyter notebook.
# !pip install -q -U watermark


# Imports
import pandas as pd
import numpy as np
from sklearn import linear_model
import warnings
warnings.filterwarnings("ignore")


# Versões dos pacotes usados neste jupyter notebook
%reload_ext watermark
%watermark -a "Data Science Academy" --iversions





# Carrega os dados
dados = pd.read_csv('dados/dataset.csv')


# Shape
dados.shape


# Visualiza os dados
dados


# Tipos de dados
dados.info()








# Dataset original
dados


dados.info()





# Obtém as variáveis dummy
df_dummies = pd.get_dummies(dados['Modelo'])





# Variáveis dummy
df_dummies


# Estamos concatenando (juntando) dois DataFrames:
# - `dados`: o DataFrame original contendo as colunas categóricas.
# - `df_dummies`: o DataFrame gerado a partir de `pd.get_dummies()`, que contém as colunas numéricas (0 e 1) correspondentes às categorias.
# O parâmetro `axis='columns'` (ou `axis=1`) indica que a concatenação será feita horizontalmente,
# ou seja, as colunas de `df_dummies` serão adicionadas ao lado das colunas de `dados`, formando um único DataFrame.
df = pd.concat([dados, df_dummies], axis='columns')



df


# Drop da coluna categórica
newdf = df.drop(['Modelo'], axis = 1)


newdf


# Define os valores de X
x = newdf.drop('Preco_Venda', axis = 1)
x


# Define os valores de y
y = newdf['Preco_Venda']
y


# Cria o modelo
modelo_v1 = linear_model.LinearRegression()


# Treina o modelo
modelo_v1.fit(x,y)


# Previsões do modelo
modelo_v1.predict(x)


# Uma previsão
modelo_v1.predict([[7000,4,0,0,1]])


# Uma previsão
modelo_v1.predict([[45000,4,0,1,0]])


# Uma previsão
modelo_v1.predict([[86000,7,1,0,0]])


# Acurácia do modelo
modelo_v1.score(x,y)





from sklearn.preprocessing import LabelEncoder


# Criamos uma cópia do DataFrame original, mas sem duplicar os dados na memória.
# Ou seja, `df_car` não é um novo DataFrame, mas apenas uma referência para `dados`.
df_car = dados


df_car


# Cria o objeto encoder
le = LabelEncoder()


# Aplica o encoder
df_car['Modelo'] = le.fit_transform(df_car['Modelo'])


df_car


# Define os valores de X
x = df_car[['Modelo', 'Kilometragem', 'Idade_Veiculo']].values
x


# Define os valores de y
y = df_car['Preco_Venda']
y


# Cria a versão 2 do modelo
modelo_v2 = linear_model.LinearRegression()


# Treina o modelo
modelo_v2.fit(x,y)


# Faz previsões
modelo_v2.predict(x)


# Calcula a acurácia
modelo_v2.score(x,y)





# Carrega os dados
dados = pd.read_csv('dados/dataset.csv')
dados


from sklearn.preprocessing import OneHotEncoder
from sklearn.compose import ColumnTransformer


# Cria o encoder com transformação
OHEncoder = ColumnTransformer([('Modelo', OneHotEncoder(), [0])], remainder = 'passthrough')


# Cópia do dataframe original
df_car = dados


df_car


# Define os valores de X
x = df_car.drop('Preco_Venda', axis = 1)
x


# Define os valores de y
y = df_car['Preco_Venda']
y


# Aplica o encoder ao dataset x
X = OHEncoder.fit_transform(x)
X


# Cria a versão 3 do modelo
modelo_v3 = linear_model.LinearRegression()


# Treina o modelo
modelo_v3.fit(X,y)


# Uma previsão do modelo
modelo_v3.predict([[0,0,1,45000,4]])


# Uma previsão do modelo
modelo_v3.predict([[0,1,0,86000,7]])


# Uma previsão do modelo
modelo_v3.score(X,y)





import joblib


# Dump do modelo
joblib.dump(modelo_v3,'modelo/modelo_treinado.pkl')









