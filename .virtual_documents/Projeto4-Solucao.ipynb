














# Versão da Linguagem Python
from platform import python_version
print('Versão da Linguagem Python Usada Neste Jupyter Notebook:', python_version())


# Para atualizar um pacote, execute o comando abaixo no terminal ou prompt de comando:
# pip install -U nome_pacote

# Para instalar a versão exata de um pacote, execute o comando abaixo no terminal ou prompt de comando:
# !pip install nome_pacote==versão_desejada

# Depois de instalar ou atualizar o pacote, reinicie o jupyter notebook.

# Instala o pacote watermark. 
# Esse pacote é usado para gravar as versões de outros pacotes usados neste jupyter notebook.
# !pip install -q -U watermark


# Imports
import pandas as pd
import numpy as np
import matplotlib.pyplot as plt
import seaborn as sns
import warnings
warnings.filterwarnings("ignore")


# Versões dos pacotes usados neste jupyter notebook
%reload_ext watermark
%watermark -a "Data Science Academy" --iversions





# Carrega o dataset
df = pd.read_csv("dados/dataset.csv") 


# Shape
df.shape


# Amostra
df.head()





# Info
df.info()


# Temos valores nulos?
df.isna().any()


# Temos valores nulos?
df.isna().sum()


# Não usaremos a coluna ID. Vamos removê-la.
df.drop(["customerid"], axis = 1, inplace = True)


# Colunas
df.columns





df.head()


# Fazemos o split da coluna jobedu e criamos a coluna job com o primeiro elemento antes da vírgula
df['job'] = df["jobedu"].apply(lambda x:x.split(",")[0])


df.head()


# Fazemos o split da coluna jobedu e criamos a coluna education com o segundo elemento antes da vírgula
df['education'] = df["jobedu"].apply(lambda x:x.split(",")[1])


df.head()


# Drop da coluna "jobedu" 
df.drop(["jobedu"], axis = 1, inplace = True)


df.head()








# Valores ausentes no dataframe
df.isna().any()


# Valores ausentes da variável age
df.age.isnull().sum()


# Calcula o percentual de valores ausentes na variável age
df.age.isnull().mean()*100





# Histograma
df.age.plot(kind = "hist")
plt.title("Histograma da Variável Idade\n")
plt.show()


# Boxplot
sns.boxplot(df.age)
plt.title("Boxplot da Variável Idade\n")
plt.show()


# Vamos verificar qual é a média de idade.
df.age.mean()


# Vamos verificar qual é a mediana, valor do meio da distribuição quando os dados estão ordenados.
df.age.median()


# Vamos verificar qual é a moda, o valor que aparece com mais frequência.
df.age.mode()





# Vamos preencher com a moda pois são poucos valores ausentes e assim alteramos muito pouco o padrão nos dados.
df.age.fillna("32", inplace = True)


# Agora convertemos para int
df.age = df.age.astype("int")


# Tipo da variável
df.age.dtypes


# Média
df.age.mean()


# Mediana
df.age.median()


# Percentual de valores ausentes
df.age.isnull().mean()*100








# Valores ausentes no dataframe
df.isna().any()


# Valores ausentes na variável
df.month.isnull().sum()


# Percentual de valores ausentes
df.month.isnull().mean()*100





# Tipo da variável
df.month.dtypes


# Categorias da variável
df.month.value_counts()





# Vamos imputar com a moda, o valor mais frequente da variável, pois são poucos registros
df.month.mode()


# Imputação com a moda
df.month.fillna("may, 2017", inplace = True)


# Valores ausentes tratados com sucesso
df.month.isnull().sum()








# Valores ausentes no dataframe
df.isna().any()


# Valores ausentes na variável
df.salary.isnull().sum()


# Calcula o percentual de valores ausentes na variável salary
df.salary.isnull().mean()*100





df.head()





# Histograma
df.salary.plot(kind = "hist")
plt.title("Histograma da Variável Salário\n")
plt.show()


# Boxplot
sns.boxplot(df.salary)
plt.title("Boxplot da Variável Salário\n")
plt.show()


# Vamos verificar qual é a média de idade.
df.salary.mean()


# Vamos verificar qual é a mediana.
df.salary.median()


# Vamos verificar qual é a moda.
df.salary.mode()





# Vamos preencher com a mediana pois os dados parecem assimétricos (nesse caso a média não pode ser usada) 
# e o valor mais frequente está muito abaixo da média e da mediana (por isso não usaremos a moda)
df.salary.fillna("60000", inplace = True)


df.head()


# Histograma (vai gerar erro)
df.salary.plot(kind = "hist")
plt.title("Histograma da Variável Salário\n")
plt.show()


# Tipo da variável
df.salary.dtypes


# Convertemos para o tipo float
df.salary = df.salary.astype("float")


# Tipo da variável
df.salary.dtypes


# Histograma
df.salary.plot(kind = "hist")
plt.title("Histograma da Variável Salário\n")
plt.show()


# Boxplot
sns.boxplot(df.salary)
plt.title("Boxplot da Variável Salário\n")
plt.show()


# Registros para cada salário
df.salary.value_counts()


# Replace do zero pela mediana
df['salary'] = df['salary'].replace(0, df['salary'].median())


# Registros para cada salário
df.salary.value_counts()


# Histograma
df.salary.plot(kind = "hist")
plt.title("Histograma da Variável Salário\n")
plt.show()


# Boxplot
sns.boxplot(df.salary)
plt.title("Boxplot da Variável Salário\n")
plt.show()


# Calcula o percentual de valores ausentes na variável salary
df.salary.isnull().mean()*100


df.isna().any()








df.head()


# Valores ausentes
df.response.isnull().sum()


# Calcula o percentual
df.response.isnull().mean()*100








# Não devemos aplicar imputação na variável de estudo (variável resposta ou variável alvo)
# Vamos dropar os registros
df.dropna(subset = ["response"], inplace = True)


# Verifca valores NA
df.isnull().sum()








# Valores ausentes
df.pdays.isnull().sum()


# Describe
df.pdays.describe()





# Vamos fazer relace de -1 por NaN
df.pdays = df.pdays.replace({-1.0:np.NaN})


# Valores ausentes
df.isnull().sum()


# Calcula o percentual
df.pdays.isnull().mean()*100





# Drop da coluna "pdays" pois tem mais de 30% dos valores ausentes
df.drop(["pdays"], axis = 1, inplace = True)


# Valores ausentes
df.isnull().sum()








# Proporção da variável de estado civil
df.marital.value_counts(normalize = True)


# Plot
df.marital.value_counts(normalize = True).plot(kind = "barh")
plt.title("Proporção da variável de estado civil\n")
plt.legend()
plt.show()


# Proporção da variável de job
df.job.value_counts(normalize = True)


# Plot
plt.figure(figsize = (10,6))
df.job.value_counts(normalize = True).plot(kind = "barh")
plt.title("Proporção da variável de job\n", fontdict = {'fontsize': 20, 'fontweight' : 5, 'color' : 'Green'})
plt.legend()
plt.show()


# Proporção da variável de education
df.education.value_counts(normalize = True)


# Plot
plt.figure(figsize = (10,6))
df.education.value_counts(normalize = True).plot(kind = "pie")
plt.title("Proporção da variável de education\n", fontdict = {'fontsize': 20, 'fontweight' : 5, 'color' : 'Green'})
plt.legend()
plt.legend(bbox_to_anchor=(1.31,0.4))
plt.show()


# Proporção da variável response
df.response.value_counts(normalize = True)


# Plot
plt.figure(figsize = (10,6))
df.response.value_counts(normalize = True).plot(kind = "pie")
plt.title("Proporção da variável response\n", fontdict = {'fontsize': 20, 'fontweight' : 5, 'color' : 'Green'})
plt.legend()
plt.show()





# Scatter Plot
sns.scatterplot(df["balance"], df["salary"])
plt.title("Scatter Plot Entre Saldo e Salário\n", fontdict = {'fontsize': 20, 'fontweight' : 5, 'color' : 'Green'})
plt.show()


# Scatter Plot
sns.scatterplot(df["balance"], df["age"])
plt.title("Scatter Plot Entre Saldo e Idade\n", fontdict = {'fontsize': 20, 'fontweight' : 5, 'color' : 'Green'})
plt.show()


# Pair Plot
sns.pairplot(df[["salary","balance","age"]])
plt.show()


# Calcula a correlação
res = df[["salary", "balance", "age"]].corr()


# Mapa de Correlação
plt.figure(figsize = (10,5))
sns.heatmap(res, annot = True, cmap = "Reds")
plt.title("Mapa de Correlação\n", fontdict = {'fontsize': 20, 'fontweight' : 5, 'color' : 'Green'})
plt.show()





# Agrupa o salário pela variável resposta e calcula a média
df.groupby(by = ["response"])["salary"].mean()


# Agrupa o salário pela variável resposta e calcula a mediana
df.groupby(by = ["response"])["salary"].median()


# Boxplot
plt.figure(figsize = (10,5))
sns.boxplot(df["response"], df["salary"])
plt.title("Salário x Resposta\n", fontdict = {'fontsize': 20, 'fontweight' : 5, 'color' : 'Green'})
plt.show()


# Agrupa educação por salário e calcula a média
df.groupby(by = ["education"])["salary"].mean()


# Cria a variável response_flag como tipo numérico onde response "yes"= 1, "no"= 0
df["response_flag"] = np.where(df["response"] == "yes",1,0)
df.head()


# Mapa de correlação
res1 = df.pivot_table(index = "education", columns = "marital", values = "response_flag", aggfunc = "mean")
sns.heatmap(res1, annot = True, cmap = "RdYlGn")
plt.title("Education vs Marital vs Response Flag\n", fontdict = {'fontsize': 20, 'fontweight' : 5, 'color' : 'Green'})
plt.show()



