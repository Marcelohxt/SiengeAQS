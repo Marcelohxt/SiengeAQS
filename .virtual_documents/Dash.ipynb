


# Imports
import math
import sys, os
import numpy as np
import pandas as pd
import watermark 
import pandas as pd
import numpy as np
from sklearn import linear_model
import warnings
warnings.filterwarnings("ignore")


sys.path.append(os.path.abspath(os.path.join('modulos')))
from estrategia1 import *
from estrategia2 import *
from estrategia3 import *





# Carrega o dataset
df = pd.read_csv("dados/siengeRelatorio.csv", sep=";")



df.shape


df.head(5)


df.isna().sum()


df.info()


df.columns # See the list of columns after deletion!  


colunas_para_remover = [
    "Cód. Departamento sinal", "Departamento sinal", "Vencimento do sinal",
    "Observação do sinal", "Retém impostos no sinal", "Total Fat. Direto",
    "Total Fat. Direto Vinculado", "Fat. direto outro(s) contrato(s)",
    "Fat. direto considera indice", "Fat. direto por desconto"
]

df = df.drop(columns=colunas_para_remover)



df.head()


df.isna().sum()


# As colunas dentro do DF estavam com má formatação em virtude disso adotamos os "_" entre os espaçãmentos
df.columns = df.columns.str.replace(" ", "_")



df.columns








df.Centro_custo_sinal.isnull().sum()


df.Centro_custo_sinal.isnull().mean()*100





func_calc_percentual_valores_ausentes(df)


func_calc_percentual_valores_ausentes_coluna(df)


df = df.drop(columns=['Cód._Centro_custo_sinal','Total_Sinal','Observação_da_previsão'])





df.Total_Material.head(10)


fix_missing_value(df, 'Total_Material' , 0) # Preechendo valores ausentes com 0


# Remover espaços invisíveis e caracteres especiais como 'R$'
df['Total_Material'] = df['Total_Material'].astype(str).str.replace(r'[^\d,.-]', '', regex=True)

# Substituir ponto (separador de milhar) por nada e vírgula decimal por ponto
df['Total_Material'] = df['Total_Material'].str.replace(r'\.', ',', regex=True).str.replace(',', '.')

# Converter para float e preencher valores ausentes com 0
df['Total_Material'] = pd.to_numeric(df['Total_Material'], errors='coerce').fillna(0)


df.Total_Material.isnull().sum()


Tratando Variavel Centro_custo_sinal 





df.Centro_custo_sinal.isnull().sum() # Count values 


df.Centro_custo_sinal.isnull().mean()*100





df = df.drop(columns=['Centro_custo_sinal'])





df.Total_em_Aberto.isnull().sum()


df.Total_em_Aberto.isnull().mean()*100





# Definição da função
def formatar_valor_brasileiro(coluna):
    """
    Remove o símbolo 'R$', formata o número no padrão brasileiro
    e converte para float64.
    """
    return (
        coluna.astype(str)  
        .str.replace(r'[^\d,]', '', regex=True)  # Remove tudo que não for número ou vírgula
        .str.replace(',', '.')  # Substitui vírgula decimal por ponto
        .astype(float)  # Converte para float64
    )

# Aplicação no DataFrame (verifique se a coluna está correta!)
df['Total_Material'] = formatar_valor_brasileiro(df['Total_Material'])


df.Total_Material.isnull().sum() # Count values missing


df.Total_Material.dtype # Convertido de Str para Float 





df.Saldo.isnull().sum()


df.Saldo.dtype


def limpar_e_converter(coluna):
    """
    Remove símbolos monetários, espaços invisíveis, substitui vírgula por ponto e converte para float.
    Ignora valores vazios.
    """
    return (
        coluna.astype(str)
        .str.replace(r'[^\d,]', '', regex=True)  # Remove tudo que não for número ou vírgula
        .str.replace(',', '.', regex=False)  # Substitui vírgula decimal por ponto
        .replace('', np.nan)  # Substitui strings vazias por NaN
        .astype(float)  # Converte para float
    )

# Aplicação da função na coluna 'Saldo'
df['Saldo'] = limpar_e_converter(df['Saldo'])


fix_missing_value(df, 'Saldo' , 0) # Preechendo valores ausentes com 0


df['Saldo'] = df['Saldo'].map(lambda x: f"{x:,.2f}".replace('.', ','))


df.Saldo.head()





df.Total_em_Aberto.isnull().sum()


df.Total_em_Aberto.isnull().mean()*100





def limpar_e_converter(coluna):
    """
    Remove símbolos monetários, espaços invisíveis, substitui vírgula por ponto e converte para float.
    Ignora valores vazios.
    """
    return (
        coluna.astype(str)
        .str.replace(r'[^\d,]', '', regex=True)  # Remove tudo que não for número ou vírgula
        .str.replace(',', '.', regex=False)  # Substitui vírgula decimal por ponto
        .replace('', np.nan)  # Substitui strings vazias por NaN
        .astype(float)  # Converte para float
    )

# Aplicação da função na coluna 'Saldo'
df['Total_em_Aberto'] = limpar_e_converter(df['Total_em_Aberto'])


df['Total_em_Aberto'] = df['Total_em_Aberto'].map(lambda x: f"{x:,.2f}".replace('.', ','))





print(df[~df['Total_em_Aberto'].str.replace(r'[^\d,]', '', regex=True).str.replace(r'(\d)\.(?=\d{3}(?:,|$))', r'\1', regex=True).str.replace(',', '.').str.isnumeric()])



fix_missing_value(df,'Total_em_Aberto', 0 )


df.Total_em_Aberto.isnull().sum()









