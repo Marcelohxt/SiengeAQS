


# Imports
import math
import sys, os
import numpy as np
import pandas as pd
import watermark 
import pandas as pd
import numpy as np
from sklearn import linear_model
import warnings
import seaborn as sns
warnings.filterwarnings("ignore")
import matplotlib.pyplot as plt


sys.path.append(os.path.abspath(os.path.join('modulos')))
from estrategia1 import *
from estrategia2 import *
from estrategia3 import *





# Carrega o dataset
df = pd.read_csv("dados/siengeRelatorio.csv", sep=";")



df.shape


df.head(5)


df.isna().sum()


df.info()


df.columns # See the list of columns after deletion!  


colunas_para_remover = [
    "Cód. Departamento sinal", "Departamento sinal", "Vencimento do sinal",
    "Observação do sinal", "Retém impostos no sinal", "Total Fat. Direto",
    "Total Fat. Direto Vinculado", "Fat. direto outro(s) contrato(s)",
    "Fat. direto considera indice", "Fat. direto por desconto"
]

df = df.drop(columns=colunas_para_remover)



df.head()


df.isna().sum()


# As colunas dentro do DF estavam com má formatação em virtude disso adotamos os "_" entre os espaçãmentos
df.columns = df.columns.str.replace(" ", "_")



df.columns








df.Centro_custo_sinal.isnull().sum()


df.Centro_custo_sinal.isnull().mean()*100





func_calc_percentual_valores_ausentes(df)


func_calc_percentual_valores_ausentes_coluna(df)


df = df.drop(columns=['Cód._Centro_custo_sinal','Total_Sinal','Observação_da_previsão'])





df.Total_Material.head(10)


fix_missing_value(df, 'Total_Material' , 0) # Preechendo valores ausentes com 0


# Remover espaços invisíveis e caracteres especiais como 'R$'
df['Total_Material'] = df['Total_Material'].astype(str).str.replace(r'[^\d,.-]', '', regex=True)

# Substituir ponto (separador de milhar) por nada e vírgula decimal por ponto
df['Total_Material'] = df['Total_Material'].str.replace(r'\.', ',', regex=True).str.replace(',', '.')

# Converter para float e preencher valores ausentes com 0
df['Total_Material'] = pd.to_numeric(df['Total_Material'], errors='coerce').fillna(0)


df.Total_Material.isnull().sum()





df.Centro_custo_sinal.isnull().sum() # Count values 


df.Centro_custo_sinal.isnull().mean()*100





df = df.drop(columns=['Centro_custo_sinal'])





df.Total_em_Aberto.isnull().sum()


df.Total_em_Aberto.isnull().mean()*100





# Definição da função
def formatar_valor_brasileiro(coluna):
    """
    Remove o símbolo 'R$', formata o número no padrão brasileiro
    e converte para float64.
    """
    return (
        coluna.astype(str)  
        .str.replace(r'[^\d,]', '', regex=True)  # Remove tudo que não for número ou vírgula
        .str.replace(',', '.')  # Substitui vírgula decimal por ponto
        .astype(float)  # Converte para float64
    )

# Aplicação no DataFrame (verifique se a coluna está correta!)
df['Total_Material'] = formatar_valor_brasileiro(df['Total_Material'])


df.Total_Material.isnull().sum() # Count values missing


df.Total_Material.dtype # Convertido de Str para Float 





df.Saldo.isnull().sum()


df.Saldo.dtype


def limpar_e_converter(coluna):
    """
    Remove símbolos monetários, espaços invisíveis, substitui vírgula por ponto e converte para float.
    Ignora valores vazios.
    """
    return (
        coluna.astype(str)
        .str.replace(r'[^\d,]', '', regex=True)  # Remove tudo que não for número ou vírgula
        .str.replace(',', '.', regex=False)  # Substitui vírgula decimal por ponto
        .replace('', np.nan)  # Substitui strings vazias por NaN
        .astype(float)  # Converte para float
    )

# Aplicação da função na coluna 'Saldo'
df['Saldo'] = limpar_e_converter(df['Saldo'])


fix_missing_value(df, 'Saldo' , 0) # Preechendo valores ausentes com 0


df['Saldo'] = df['Saldo'].map(lambda x: f"{x:,.2f}".replace('.', ','))


df.Saldo.head()





df.Total_em_Aberto.isnull().sum()


df.Total_em_Aberto.isnull().mean()*100





def limpar_e_converter(coluna):
    """
    Remove símbolos monetários, espaços invisíveis, substitui vírgula por ponto e converte para float.
    Ignora valores vazios.
    """
    return (
        coluna.astype(str)
        .str.replace(r'[^\d,]', '', regex=True)  # Remove tudo que não for número ou vírgula
        .str.replace(',', '.', regex=False)  # Substitui vírgula decimal por ponto
        .replace('', np.nan)  # Substitui strings vazias por NaN
        .astype(float)  # Converte para float
    )

# Aplicação da função na coluna 'Saldo'
df['Total_em_Aberto'] = limpar_e_converter(df['Total_em_Aberto'])


df['Total_em_Aberto'] = df['Total_em_Aberto'].map(lambda x: f"{x:,.2f}".replace('.', ','))


df.Total_em_Aberto.isnull().sum()





df.Descrição_da_alteração_de_situação.isnull().sum()


df.Descrição_da_alteração_de_situação.dtype


df.Descrição_da_alteração_de_situação.head(10)


convert_to_string(df, ['Descrição_da_alteração_de_situação'])


df.Descrição_da_alteração_de_situação.isnull().mean()*100





df.Descrição_da_alteração_de_situação.shape


df.dropna(subset=['Descrição_da_alteração_de_situação'], inplace=True)



df.Descrição_da_alteração_de_situação.isnull().sum()


df.Descrição_da_alteração_de_situação.head()





func_calc_percentual_valores_ausentes_coluna(df)





df.Total_Mão_de_Obra.isna().sum()


df.Total_Mão_de_Obra.shape


df.Total_Mão_de_Obra.isnull().mean()*100





df.Total_Mão_de_Obra.head()


df.dropna(subset=['Total_Mão_de_Obra'], inplace=True) #deletando linhas com valores ausentes da variavel! 


df.Total_Mão_de_Obra.isna().sum()


df['Total_Mão_de_Obra'] = (
    df['Total_Mão_de_Obra']
    .astype(str)  # Garante que os valores são strings antes da substituição
    .str.replace('R$', '', regex=True)  # Remove o símbolo "R$"
    .str.replace('.', '', regex=True)  # Remove os pontos (separadores de milhar)
    .str.replace(',', '.', regex=True)  # Substitui a vírgula decimal por ponto
    .str.strip()  # Remove espaços extras
    .replace('', '0')  # Substitui valores vazios por "0" (ou pode usar NaN)
    .astype(float)  # Converte para float
)


df.Total_Mão_de_Obra.isna().sum()


func_calc_percentual_valores_ausentes_coluna(df)





df.Total_Medido.head(5)


df.Total_Medido.isnull().sum()



df.Total_Medido.isnull().mean()*100





df.Total_Medido.dtype


df['Total_Medido'] = df['Total_Medido'].fillna(0)



df.Total_Medido.isnull().sum()


df['Total_Medido'] = (
    df['Total_Medido']
    .str.replace('R\$', '', regex=True)  
)     # remove "R$"
   



df['Total_Medido'] = (
    df['Total_Medido']
    .astype(str)     )                         # garante que tudo é string



func_calc_percentual_valores_ausentes_coluna(df)








# Carrega o dataset
df2 = pd.read_csv("dados/siengeRelatorio02.csv", sep=";")


df2.head(5)


func_calc_percentual_valores_ausentes_coluna(df2)





df2.Ações.isnull().mean()*100





df2.drop(columns=['Ações'], inplace=True)  # Excluindo Coluna no df2


func_calc_percentual_valores_ausentes_coluna(df2)





df2.columns = df2.columns.str.replace(" ", "_") # removendo todos os espaços e colando _


df2.Total_Pendente.isnull().sum()



df2.Total_Pendente.isnull().mean()*100


df2.Total_Pendente.head(5)


df2.Total_Pendente.dtype


# substituindo todos os valores Nan POr 0 
df2['Total_Pendente'] = df2['Total_Pendente'].fillna(0)


df2['Total_Pendente'] = (
    df2['Total_Pendente']
    .astype(str)                              # Garante que é string
    .str.replace('\xa0', '', regex=True)      # Remove espaços invisíveis
    .str.replace('R$', '', regex=True)        # Remove "R$"
    .str.replace('.', '', regex=True)         # Remove separador de milhar
    .str.replace(',', '.', regex=True)        # Troca vírgula por ponto
    .str.strip()                              # Remove espaços extras
    .replace('', '0')                         # Troca string vazia por zero
    .astype(float)                            # Converte para float
)



print(df2['Total_Pendente'].dtype)  # Deve retornar: float64



func_calc_percentual_valores_ausentes_coluna(df2)





df2['Total_Entregue'] = df2['Total_Entregue'].fillna(0)


df2.Total_Entregue.head(5)


df2['Total_Entregue'] = (
    df2['Total_Entregue']
    .astype(str)                              # Garante que é string
    .str.replace('\xa0', '', regex=True)      # Remove espaços invisíveis
    .str.replace('R$', '', regex=True)        # Remove "R$"
    .str.replace('.', '', regex=True)         # Remove separador de milhar
    .str.replace(',', '.', regex=True)        # Troca vírgula por ponto
    .str.strip()                              # Remove espaços extras
    .replace('', '0')                         # Troca string vazia por zero
    .astype(float)                            # Converte para float
)



df2.Total_Entregue.isnull().sum()


func_calc_percentual_valores_ausentes_coluna(df2)


df2.info()


def convert_to_datetime(df, columns):
    for col in columns:
        df[col] = pd.to_datetime(df[col], dayfirst=True, errors='coerce')



df2.Data_do_Pedido.info()


df2.Obra.head(5)


df2['Obra'] = df2['Obra'].str.replace(" ", "_") # Removendo espaços dentro da couna obra






df2.Centro_Custo.head(5)


df2['Centro_Custo'] = df2['Centro_Custo'].str.replace(" ", "_") # Removendo espaços dentro da couna obra


df2.Departamento.head(5)





# Agrupa os dados por usuário e número do pedido, agregando pelo maior valor
ord_max_count = df2[df2['Obra'] == 'Total_Entregue'].groupby("Departamento")['Total_Entregue'].max().reset_index()
ord_max_count.head()


# Remove 'R$', pontos de milhar, substitui vírgula por ponto e converte para float
df2['Total_Entregue'] = (
    df2['Total_Entregue']
    .astype(str)
    .str.replace('R\$', '', regex=True)
    .str.replace('.', '', regex=False)
    .str.replace(',', '.', regex=False)
    .astype(float)
)


import seaborn as sns
import matplotlib.pyplot as plt

# Agrupando os valores entregues por departamento
df_grouped = df2.groupby('Departamento')['Total_Entregue'].sum().reset_index()

# Plotando
plt.figure(figsize=(12, 6))
sns.barplot(data=df_grouped, x='Departamento', y='Total_Entregue', palette='viridis')

plt.title('Total Entregue por Departamento (em R$)')
plt.ylabel('Valor em R$')
plt.xticks(rotation=45)
plt.tight_layout()
plt.show()



df.Total_Entregue.head()






